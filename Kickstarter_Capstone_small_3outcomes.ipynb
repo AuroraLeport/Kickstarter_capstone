{
 "cells": [
  {
   "cell_type": "code",
   "execution_count": 1,
   "metadata": {
    "collapsed": false
   },
   "outputs": [
    {
     "data": {
      "text/plain": [
       "u'/Users/auroraleport/Documents/LePort_git/Springboard/Kickstarter_capstone'"
      ]
     },
     "execution_count": 1,
     "metadata": {},
     "output_type": "execute_result"
    }
   ],
   "source": [
    "pwd"
   ]
  },
  {
   "cell_type": "code",
   "execution_count": 2,
   "metadata": {
    "collapsed": true
   },
   "outputs": [],
   "source": [
    "import pandas as pd\n",
    "k_data = pd.read_csv('/Users/auroraleport/Documents/Kickstarter_2016-07-15/Kickstarter.csv')"
   ]
  },
  {
   "cell_type": "code",
   "execution_count": 3,
   "metadata": {
    "collapsed": false,
    "scrolled": true
   },
   "outputs": [],
   "source": [
    "#kd = pd.DataFrame.from_csv('Kickstarter_2016-07-15/Kickstarter.csv', index_col=None,\n",
    "#                                      parse_dates=['launched_at'], infer_datetime_format=True)\n",
    "#kd = kd[['category','name','blurb','currency','static_usd_rate','goal','backers_count','state','launched_at','state_changed_at']].head()"
   ]
  },
  {
   "cell_type": "code",
   "execution_count": 4,
   "metadata": {
    "collapsed": false
   },
   "outputs": [],
   "source": [
    "#kd.dtypes"
   ]
  },
  {
   "cell_type": "code",
   "execution_count": 5,
   "metadata": {
    "collapsed": false
   },
   "outputs": [
    {
     "name": "stdout",
     "output_type": "stream",
     "text": [
      "['id' 'photo' 'name' 'blurb' 'goal' 'pledged' 'state' 'slug'\n",
      " 'disable_communication' 'country' 'currency' 'currency_symbol'\n",
      " 'currency_trailing_code' 'deadline' 'state_changed_at' 'created_at'\n",
      " 'launched_at' 'staff_pick' 'backers_count' 'static_usd_rate' 'usd_pledged'\n",
      " 'creator' 'location' 'category' 'profile' 'spotlight' 'urls' 'source_url'\n",
      " 'friends' 'is_starred' 'is_backing' 'permissions']\n",
      "4184\n"
     ]
    },
    {
     "data": {
      "text/html": [
       "<div>\n",
       "<table border=\"1\" class=\"dataframe\">\n",
       "  <thead>\n",
       "    <tr style=\"text-align: right;\">\n",
       "      <th></th>\n",
       "      <th>category</th>\n",
       "      <th>name</th>\n",
       "      <th>blurb</th>\n",
       "      <th>currency</th>\n",
       "      <th>static_usd_rate</th>\n",
       "      <th>goal</th>\n",
       "      <th>backers_count</th>\n",
       "      <th>state</th>\n",
       "      <th>launched_at</th>\n",
       "      <th>state_changed_at</th>\n",
       "    </tr>\n",
       "  </thead>\n",
       "  <tbody>\n",
       "    <tr>\n",
       "      <th>0</th>\n",
       "      <td>{\"urls\":{\"web\":{\"discover\":\"http://www.kicksta...</td>\n",
       "      <td>Conceptual Waist Aprons</td>\n",
       "      <td>I’m painting phallic and yonic themed waist ap...</td>\n",
       "      <td>USD</td>\n",
       "      <td>1.000000</td>\n",
       "      <td>300.0</td>\n",
       "      <td>18</td>\n",
       "      <td>successful</td>\n",
       "      <td>1351119645</td>\n",
       "      <td>1353715248</td>\n",
       "    </tr>\n",
       "    <tr>\n",
       "      <th>1</th>\n",
       "      <td>{\"urls\":{\"web\":{\"discover\":\"http://www.kicksta...</td>\n",
       "      <td>Mjölby Porslinsrävsmuseum pin</td>\n",
       "      <td>Visa ditt stöd för Mjölby Porslinsrävsmusem me...</td>\n",
       "      <td>SEK</td>\n",
       "      <td>0.121226</td>\n",
       "      <td>3000.0</td>\n",
       "      <td>79</td>\n",
       "      <td>successful</td>\n",
       "      <td>1463392407</td>\n",
       "      <td>1464904800</td>\n",
       "    </tr>\n",
       "    <tr>\n",
       "      <th>2</th>\n",
       "      <td>{\"urls\":{\"web\":{\"discover\":\"http://www.kicksta...</td>\n",
       "      <td>COOL DOG ANNUAL STICKER FUND 2016</td>\n",
       "      <td>cool dog is a good dog. he is best conveyed in...</td>\n",
       "      <td>USD</td>\n",
       "      <td>1.000000</td>\n",
       "      <td>3200.0</td>\n",
       "      <td>148</td>\n",
       "      <td>successful</td>\n",
       "      <td>1462554921</td>\n",
       "      <td>1465146921</td>\n",
       "    </tr>\n",
       "    <tr>\n",
       "      <th>3</th>\n",
       "      <td>{\"urls\":{\"web\":{\"discover\":\"http://www.kicksta...</td>\n",
       "      <td>USS Coral Sea (CVB/CVA/CV-43) Commemorative Ch...</td>\n",
       "      <td>USS Coral Sea (CVB/CVA/CV 43) commemorative ch...</td>\n",
       "      <td>USD</td>\n",
       "      <td>1.000000</td>\n",
       "      <td>2100.0</td>\n",
       "      <td>56</td>\n",
       "      <td>successful</td>\n",
       "      <td>1437772670</td>\n",
       "      <td>1439068670</td>\n",
       "    </tr>\n",
       "    <tr>\n",
       "      <th>4</th>\n",
       "      <td>{\"urls\":{\"web\":{\"discover\":\"http://www.kicksta...</td>\n",
       "      <td>Amrita Bottles Inc.</td>\n",
       "      <td>Amrita is Sanskrit for divine nectar. This bot...</td>\n",
       "      <td>USD</td>\n",
       "      <td>1.000000</td>\n",
       "      <td>1950.0</td>\n",
       "      <td>31</td>\n",
       "      <td>successful</td>\n",
       "      <td>1449811170</td>\n",
       "      <td>1451631540</td>\n",
       "    </tr>\n",
       "  </tbody>\n",
       "</table>\n",
       "</div>"
      ],
      "text/plain": [
       "                                            category  \\\n",
       "0  {\"urls\":{\"web\":{\"discover\":\"http://www.kicksta...   \n",
       "1  {\"urls\":{\"web\":{\"discover\":\"http://www.kicksta...   \n",
       "2  {\"urls\":{\"web\":{\"discover\":\"http://www.kicksta...   \n",
       "3  {\"urls\":{\"web\":{\"discover\":\"http://www.kicksta...   \n",
       "4  {\"urls\":{\"web\":{\"discover\":\"http://www.kicksta...   \n",
       "\n",
       "                                                name  \\\n",
       "0                            Conceptual Waist Aprons   \n",
       "1                      Mjölby Porslinsrävsmuseum pin   \n",
       "2                  COOL DOG ANNUAL STICKER FUND 2016   \n",
       "3  USS Coral Sea (CVB/CVA/CV-43) Commemorative Ch...   \n",
       "4                                Amrita Bottles Inc.   \n",
       "\n",
       "                                               blurb currency  \\\n",
       "0  I’m painting phallic and yonic themed waist ap...      USD   \n",
       "1  Visa ditt stöd för Mjölby Porslinsrävsmusem me...      SEK   \n",
       "2  cool dog is a good dog. he is best conveyed in...      USD   \n",
       "3  USS Coral Sea (CVB/CVA/CV 43) commemorative ch...      USD   \n",
       "4  Amrita is Sanskrit for divine nectar. This bot...      USD   \n",
       "\n",
       "   static_usd_rate    goal  backers_count       state  launched_at  \\\n",
       "0         1.000000   300.0             18  successful   1351119645   \n",
       "1         0.121226  3000.0             79  successful   1463392407   \n",
       "2         1.000000  3200.0            148  successful   1462554921   \n",
       "3         1.000000  2100.0             56  successful   1437772670   \n",
       "4         1.000000  1950.0             31  successful   1449811170   \n",
       "\n",
       "   state_changed_at  \n",
       "0        1353715248  \n",
       "1        1464904800  \n",
       "2        1465146921  \n",
       "3        1439068670  \n",
       "4        1451631540  "
      ]
     },
     "execution_count": 5,
     "metadata": {},
     "output_type": "execute_result"
    }
   ],
   "source": [
    "# extracting targeted values:\n",
    "print k_data.columns.values\n",
    "k_var = k_data[['category','name','blurb','currency','static_usd_rate','goal','backers_count','state','launched_at','state_changed_at']]\n",
    "print len(k_var)\n",
    "k_var.head()\n"
   ]
  },
  {
   "cell_type": "markdown",
   "metadata": {},
   "source": [
    "# Goals:\n",
    "    # Want to convert blurb to count of words in blurb. (complete)\n",
    "    # Need to extract category name from category url. (complete)\n",
    "    # Need to convert launched_at time from Unix time to PST (complete)\n",
    "    # Need to convert goal amount to USD currency units (complete)\n",
    "    # Need to extract all states that are live from dataframe (complete)\n",
    "    # Need to calculate time to state change (state_change - launched_at) (complete)"
   ]
  },
  {
   "cell_type": "markdown",
   "metadata": {},
   "source": [
    "# Calculating time to state change"
   ]
  },
  {
   "cell_type": "code",
   "execution_count": 6,
   "metadata": {
    "collapsed": false
   },
   "outputs": [],
   "source": [
    "import datetime\n",
    "launch_date = []\n",
    "\n",
    "for date in k_var['launched_at']:\n",
    "    new_date = datetime.datetime.fromtimestamp(int(date)).strftime('%Y-%m-%d')\n",
    "    launch_date.append(new_date)\n",
    "launch_date = pd.to_datetime(launch_date)\n",
    "\n",
    "change_date = []\n",
    "for date in k_var['state_changed_at']:\n",
    "    new_date2 = datetime.datetime.fromtimestamp(int(date)).strftime('%Y-%m-%d')\n",
    "    change_date.append(new_date2)\n",
    "change_date = pd.to_datetime(change_date)\n",
    "\n",
    "#k_var['days_to_change'] = (pd.to_datetime(change_date['change_date']) - pd.to_datetime(launch_date['launch_date']))"
   ]
  },
  {
   "cell_type": "code",
   "execution_count": 7,
   "metadata": {
    "collapsed": false
   },
   "outputs": [
    {
     "name": "stderr",
     "output_type": "stream",
     "text": [
      "/anaconda/lib/python2.7/site-packages/ipykernel/__main__.py:2: SettingWithCopyWarning: \n",
      "A value is trying to be set on a copy of a slice from a DataFrame.\n",
      "Try using .loc[row_indexer,col_indexer] = value instead\n",
      "\n",
      "See the caveats in the documentation: http://pandas.pydata.org/pandas-docs/stable/indexing.html#indexing-view-versus-copy\n",
      "  from ipykernel import kernelapp as app\n",
      "/anaconda/lib/python2.7/site-packages/ipykernel/__main__.py:3: SettingWithCopyWarning: \n",
      "A value is trying to be set on a copy of a slice from a DataFrame.\n",
      "Try using .loc[row_indexer,col_indexer] = value instead\n",
      "\n",
      "See the caveats in the documentation: http://pandas.pydata.org/pandas-docs/stable/indexing.html#indexing-view-versus-copy\n",
      "  app.launch_new_instance()\n",
      "/anaconda/lib/python2.7/site-packages/ipykernel/__main__.py:4: SettingWithCopyWarning: \n",
      "A value is trying to be set on a copy of a slice from a DataFrame.\n",
      "Try using .loc[row_indexer,col_indexer] = value instead\n",
      "\n",
      "See the caveats in the documentation: http://pandas.pydata.org/pandas-docs/stable/indexing.html#indexing-view-versus-copy\n"
     ]
    }
   ],
   "source": [
    "# print k_var.dtypes\n",
    "k_var['launched_at'] = launch_date\n",
    "k_var['state_changed_at'] = change_date\n",
    "k_var['days_to_change'] = (k_var['state_changed_at'] - k_var['launched_at'])"
   ]
  },
  {
   "cell_type": "code",
   "execution_count": 8,
   "metadata": {
    "collapsed": false
   },
   "outputs": [
    {
     "name": "stdout",
     "output_type": "stream",
     "text": [
      "category                     object\n",
      "name                         object\n",
      "blurb                        object\n",
      "currency                     object\n",
      "static_usd_rate             float64\n",
      "goal                        float64\n",
      "backers_count                 int64\n",
      "state                        object\n",
      "launched_at          datetime64[ns]\n",
      "state_changed_at     datetime64[ns]\n",
      "days_to_change      timedelta64[ns]\n",
      "dtype: object\n"
     ]
    }
   ],
   "source": [
    "print k_var.dtypes"
   ]
  },
  {
   "cell_type": "markdown",
   "metadata": {},
   "source": [
    "# Converting goal amount to USD currency units:"
   ]
  },
  {
   "cell_type": "code",
   "execution_count": 9,
   "metadata": {
    "collapsed": false
   },
   "outputs": [
    {
     "name": "stderr",
     "output_type": "stream",
     "text": [
      "/anaconda/lib/python2.7/site-packages/ipykernel/__main__.py:1: SettingWithCopyWarning: \n",
      "A value is trying to be set on a copy of a slice from a DataFrame.\n",
      "Try using .loc[row_indexer,col_indexer] = value instead\n",
      "\n",
      "See the caveats in the documentation: http://pandas.pydata.org/pandas-docs/stable/indexing.html#indexing-view-versus-copy\n",
      "  if __name__ == '__main__':\n"
     ]
    }
   ],
   "source": [
    "k_var['goal_USD'] = k_var['goal'] * k_var['static_usd_rate']"
   ]
  },
  {
   "cell_type": "markdown",
   "metadata": {},
   "source": [
    "# Converting catgory url to name"
   ]
  },
  {
   "cell_type": "code",
   "execution_count": 10,
   "metadata": {
    "collapsed": false
   },
   "outputs": [
    {
     "name": "stderr",
     "output_type": "stream",
     "text": [
      "/anaconda/lib/python2.7/site-packages/ipykernel/__main__.py:9: SettingWithCopyWarning: \n",
      "A value is trying to be set on a copy of a slice from a DataFrame.\n",
      "Try using .loc[row_indexer,col_indexer] = value instead\n",
      "\n",
      "See the caveats in the documentation: http://pandas.pydata.org/pandas-docs/stable/indexing.html#indexing-view-versus-copy\n"
     ]
    }
   ],
   "source": [
    "import re\n",
    "category = ''\n",
    "for item in k_var['category']:\n",
    "    m = re.search('(?<=/categories/)\\w+', item)\n",
    "    #print m.group(0)\n",
    "    category += m.group(0) + ','\n",
    "#print category\n",
    "category = pd.DataFrame(category.split(','), columns = ['category'])\n",
    "k_var['category_name'] = category\n",
    "#k_var.head()"
   ]
  },
  {
   "cell_type": "markdown",
   "metadata": {},
   "source": [
    "# Converting blurb to count of words in blurb"
   ]
  },
  {
   "cell_type": "code",
   "execution_count": 11,
   "metadata": {
    "collapsed": false
   },
   "outputs": [
    {
     "name": "stderr",
     "output_type": "stream",
     "text": [
      "/anaconda/lib/python2.7/site-packages/ipykernel/__main__.py:8: SettingWithCopyWarning: \n",
      "A value is trying to be set on a copy of a slice from a DataFrame.\n",
      "Try using .loc[row_indexer,col_indexer] = value instead\n",
      "\n",
      "See the caveats in the documentation: http://pandas.pydata.org/pandas-docs/stable/indexing.html#indexing-view-versus-copy\n"
     ]
    },
    {
     "data": {
      "text/html": [
       "<div>\n",
       "<table border=\"1\" class=\"dataframe\">\n",
       "  <thead>\n",
       "    <tr style=\"text-align: right;\">\n",
       "      <th></th>\n",
       "      <th>category</th>\n",
       "      <th>name</th>\n",
       "      <th>blurb</th>\n",
       "      <th>currency</th>\n",
       "      <th>static_usd_rate</th>\n",
       "      <th>goal</th>\n",
       "      <th>backers_count</th>\n",
       "      <th>state</th>\n",
       "      <th>launched_at</th>\n",
       "      <th>state_changed_at</th>\n",
       "      <th>days_to_change</th>\n",
       "      <th>goal_USD</th>\n",
       "      <th>category_name</th>\n",
       "      <th>blurb_count</th>\n",
       "    </tr>\n",
       "  </thead>\n",
       "  <tbody>\n",
       "    <tr>\n",
       "      <th>0</th>\n",
       "      <td>{\"urls\":{\"web\":{\"discover\":\"http://www.kicksta...</td>\n",
       "      <td>Conceptual Waist Aprons</td>\n",
       "      <td>I’m painting phallic and yonic themed waist ap...</td>\n",
       "      <td>USD</td>\n",
       "      <td>1.000000</td>\n",
       "      <td>300.0</td>\n",
       "      <td>18</td>\n",
       "      <td>successful</td>\n",
       "      <td>2012-10-24</td>\n",
       "      <td>2012-11-23</td>\n",
       "      <td>30 days</td>\n",
       "      <td>300.00000</td>\n",
       "      <td>art</td>\n",
       "      <td>12.0</td>\n",
       "    </tr>\n",
       "    <tr>\n",
       "      <th>1</th>\n",
       "      <td>{\"urls\":{\"web\":{\"discover\":\"http://www.kicksta...</td>\n",
       "      <td>Mjölby Porslinsrävsmuseum pin</td>\n",
       "      <td>Visa ditt stöd för Mjölby Porslinsrävsmusem me...</td>\n",
       "      <td>SEK</td>\n",
       "      <td>0.121226</td>\n",
       "      <td>3000.0</td>\n",
       "      <td>79</td>\n",
       "      <td>successful</td>\n",
       "      <td>2016-05-16</td>\n",
       "      <td>2016-06-02</td>\n",
       "      <td>17 days</td>\n",
       "      <td>363.67812</td>\n",
       "      <td>art</td>\n",
       "      <td>18.0</td>\n",
       "    </tr>\n",
       "    <tr>\n",
       "      <th>2</th>\n",
       "      <td>{\"urls\":{\"web\":{\"discover\":\"http://www.kicksta...</td>\n",
       "      <td>COOL DOG ANNUAL STICKER FUND 2016</td>\n",
       "      <td>cool dog is a good dog. he is best conveyed in...</td>\n",
       "      <td>USD</td>\n",
       "      <td>1.000000</td>\n",
       "      <td>3200.0</td>\n",
       "      <td>148</td>\n",
       "      <td>successful</td>\n",
       "      <td>2016-05-06</td>\n",
       "      <td>2016-06-05</td>\n",
       "      <td>30 days</td>\n",
       "      <td>3200.00000</td>\n",
       "      <td>art</td>\n",
       "      <td>28.0</td>\n",
       "    </tr>\n",
       "    <tr>\n",
       "      <th>3</th>\n",
       "      <td>{\"urls\":{\"web\":{\"discover\":\"http://www.kicksta...</td>\n",
       "      <td>USS Coral Sea (CVB/CVA/CV-43) Commemorative Ch...</td>\n",
       "      <td>USS Coral Sea (CVB/CVA/CV 43) commemorative ch...</td>\n",
       "      <td>USD</td>\n",
       "      <td>1.000000</td>\n",
       "      <td>2100.0</td>\n",
       "      <td>56</td>\n",
       "      <td>successful</td>\n",
       "      <td>2015-07-24</td>\n",
       "      <td>2015-08-08</td>\n",
       "      <td>15 days</td>\n",
       "      <td>2100.00000</td>\n",
       "      <td>art</td>\n",
       "      <td>20.0</td>\n",
       "    </tr>\n",
       "    <tr>\n",
       "      <th>4</th>\n",
       "      <td>{\"urls\":{\"web\":{\"discover\":\"http://www.kicksta...</td>\n",
       "      <td>Amrita Bottles Inc.</td>\n",
       "      <td>Amrita is Sanskrit for divine nectar. This bot...</td>\n",
       "      <td>USD</td>\n",
       "      <td>1.000000</td>\n",
       "      <td>1950.0</td>\n",
       "      <td>31</td>\n",
       "      <td>successful</td>\n",
       "      <td>2015-12-10</td>\n",
       "      <td>2015-12-31</td>\n",
       "      <td>21 days</td>\n",
       "      <td>1950.00000</td>\n",
       "      <td>art</td>\n",
       "      <td>24.0</td>\n",
       "    </tr>\n",
       "  </tbody>\n",
       "</table>\n",
       "</div>"
      ],
      "text/plain": [
       "                                            category  \\\n",
       "0  {\"urls\":{\"web\":{\"discover\":\"http://www.kicksta...   \n",
       "1  {\"urls\":{\"web\":{\"discover\":\"http://www.kicksta...   \n",
       "2  {\"urls\":{\"web\":{\"discover\":\"http://www.kicksta...   \n",
       "3  {\"urls\":{\"web\":{\"discover\":\"http://www.kicksta...   \n",
       "4  {\"urls\":{\"web\":{\"discover\":\"http://www.kicksta...   \n",
       "\n",
       "                                                name  \\\n",
       "0                            Conceptual Waist Aprons   \n",
       "1                      Mjölby Porslinsrävsmuseum pin   \n",
       "2                  COOL DOG ANNUAL STICKER FUND 2016   \n",
       "3  USS Coral Sea (CVB/CVA/CV-43) Commemorative Ch...   \n",
       "4                                Amrita Bottles Inc.   \n",
       "\n",
       "                                               blurb currency  \\\n",
       "0  I’m painting phallic and yonic themed waist ap...      USD   \n",
       "1  Visa ditt stöd för Mjölby Porslinsrävsmusem me...      SEK   \n",
       "2  cool dog is a good dog. he is best conveyed in...      USD   \n",
       "3  USS Coral Sea (CVB/CVA/CV 43) commemorative ch...      USD   \n",
       "4  Amrita is Sanskrit for divine nectar. This bot...      USD   \n",
       "\n",
       "   static_usd_rate    goal  backers_count       state launched_at  \\\n",
       "0         1.000000   300.0             18  successful  2012-10-24   \n",
       "1         0.121226  3000.0             79  successful  2016-05-16   \n",
       "2         1.000000  3200.0            148  successful  2016-05-06   \n",
       "3         1.000000  2100.0             56  successful  2015-07-24   \n",
       "4         1.000000  1950.0             31  successful  2015-12-10   \n",
       "\n",
       "  state_changed_at  days_to_change    goal_USD category_name  blurb_count  \n",
       "0       2012-11-23         30 days   300.00000           art         12.0  \n",
       "1       2016-06-02         17 days   363.67812           art         18.0  \n",
       "2       2016-06-05         30 days  3200.00000           art         28.0  \n",
       "3       2015-08-08         15 days  2100.00000           art         20.0  \n",
       "4       2015-12-31         21 days  1950.00000           art         24.0  "
      ]
     },
     "execution_count": 11,
     "metadata": {},
     "output_type": "execute_result"
    }
   ],
   "source": [
    "blurb_count = []\n",
    "for blurb in k_var['blurb']:\n",
    "    #print blurb\n",
    "    try:\n",
    "        blurb_count.append(len(blurb.split(' ')))\n",
    "    except:\n",
    "        blurb_count.append(blurb)\n",
    "k_var['blurb_count'] = blurb_count\n",
    "k_var.head()\n"
   ]
  },
  {
   "cell_type": "markdown",
   "metadata": {},
   "source": [
    "# Removing states that are live"
   ]
  },
  {
   "cell_type": "code",
   "execution_count": 12,
   "metadata": {
    "collapsed": false
   },
   "outputs": [
    {
     "name": "stdout",
     "output_type": "stream",
     "text": [
      "4184\n",
      "4156\n"
     ]
    },
    {
     "data": {
      "text/plain": [
       "state\n",
       "canceled       535\n",
       "failed        2917\n",
       "successful     692\n",
       "suspended       12\n",
       "dtype: int64"
      ]
     },
     "execution_count": 12,
     "metadata": {},
     "output_type": "execute_result"
    }
   ],
   "source": [
    "k_var_state = k_var[k_var['state'] != 'live']\n",
    "print len(k_var)\n",
    "print len(k_var_state)\n",
    "k_var_state.groupby(['state']).size()"
   ]
  },
  {
   "cell_type": "markdown",
   "metadata": {},
   "source": [
    "# Cleaned kickstarter data:"
   ]
  },
  {
   "cell_type": "code",
   "execution_count": 13,
   "metadata": {
    "collapsed": false
   },
   "outputs": [
    {
     "data": {
      "text/html": [
       "<div>\n",
       "<table border=\"1\" class=\"dataframe\">\n",
       "  <thead>\n",
       "    <tr style=\"text-align: right;\">\n",
       "      <th></th>\n",
       "      <th>name</th>\n",
       "      <th>category_name</th>\n",
       "      <th>blurb</th>\n",
       "      <th>blurb_count</th>\n",
       "      <th>goal_USD</th>\n",
       "      <th>backers_count</th>\n",
       "      <th>launched_at</th>\n",
       "      <th>state_changed_at</th>\n",
       "      <th>days_to_change</th>\n",
       "      <th>state</th>\n",
       "    </tr>\n",
       "  </thead>\n",
       "  <tbody>\n",
       "    <tr>\n",
       "      <th>0</th>\n",
       "      <td>Conceptual Waist Aprons</td>\n",
       "      <td>art</td>\n",
       "      <td>I’m painting phallic and yonic themed waist ap...</td>\n",
       "      <td>12.0</td>\n",
       "      <td>300.00000</td>\n",
       "      <td>18</td>\n",
       "      <td>2012-10-24</td>\n",
       "      <td>2012-11-23</td>\n",
       "      <td>30 days</td>\n",
       "      <td>successful</td>\n",
       "    </tr>\n",
       "    <tr>\n",
       "      <th>1</th>\n",
       "      <td>Mjölby Porslinsrävsmuseum pin</td>\n",
       "      <td>art</td>\n",
       "      <td>Visa ditt stöd för Mjölby Porslinsrävsmusem me...</td>\n",
       "      <td>18.0</td>\n",
       "      <td>363.67812</td>\n",
       "      <td>79</td>\n",
       "      <td>2016-05-16</td>\n",
       "      <td>2016-06-02</td>\n",
       "      <td>17 days</td>\n",
       "      <td>successful</td>\n",
       "    </tr>\n",
       "    <tr>\n",
       "      <th>2</th>\n",
       "      <td>COOL DOG ANNUAL STICKER FUND 2016</td>\n",
       "      <td>art</td>\n",
       "      <td>cool dog is a good dog. he is best conveyed in...</td>\n",
       "      <td>28.0</td>\n",
       "      <td>3200.00000</td>\n",
       "      <td>148</td>\n",
       "      <td>2016-05-06</td>\n",
       "      <td>2016-06-05</td>\n",
       "      <td>30 days</td>\n",
       "      <td>successful</td>\n",
       "    </tr>\n",
       "    <tr>\n",
       "      <th>3</th>\n",
       "      <td>USS Coral Sea (CVB/CVA/CV-43) Commemorative Ch...</td>\n",
       "      <td>art</td>\n",
       "      <td>USS Coral Sea (CVB/CVA/CV 43) commemorative ch...</td>\n",
       "      <td>20.0</td>\n",
       "      <td>2100.00000</td>\n",
       "      <td>56</td>\n",
       "      <td>2015-07-24</td>\n",
       "      <td>2015-08-08</td>\n",
       "      <td>15 days</td>\n",
       "      <td>successful</td>\n",
       "    </tr>\n",
       "    <tr>\n",
       "      <th>4</th>\n",
       "      <td>Amrita Bottles Inc.</td>\n",
       "      <td>art</td>\n",
       "      <td>Amrita is Sanskrit for divine nectar. This bot...</td>\n",
       "      <td>24.0</td>\n",
       "      <td>1950.00000</td>\n",
       "      <td>31</td>\n",
       "      <td>2015-12-10</td>\n",
       "      <td>2015-12-31</td>\n",
       "      <td>21 days</td>\n",
       "      <td>successful</td>\n",
       "    </tr>\n",
       "  </tbody>\n",
       "</table>\n",
       "</div>"
      ],
      "text/plain": [
       "                                                name category_name  \\\n",
       "0                            Conceptual Waist Aprons           art   \n",
       "1                      Mjölby Porslinsrävsmuseum pin           art   \n",
       "2                  COOL DOG ANNUAL STICKER FUND 2016           art   \n",
       "3  USS Coral Sea (CVB/CVA/CV-43) Commemorative Ch...           art   \n",
       "4                                Amrita Bottles Inc.           art   \n",
       "\n",
       "                                               blurb  blurb_count    goal_USD  \\\n",
       "0  I’m painting phallic and yonic themed waist ap...         12.0   300.00000   \n",
       "1  Visa ditt stöd för Mjölby Porslinsrävsmusem me...         18.0   363.67812   \n",
       "2  cool dog is a good dog. he is best conveyed in...         28.0  3200.00000   \n",
       "3  USS Coral Sea (CVB/CVA/CV 43) commemorative ch...         20.0  2100.00000   \n",
       "4  Amrita is Sanskrit for divine nectar. This bot...         24.0  1950.00000   \n",
       "\n",
       "   backers_count launched_at state_changed_at  days_to_change       state  \n",
       "0             18  2012-10-24       2012-11-23         30 days  successful  \n",
       "1             79  2016-05-16       2016-06-02         17 days  successful  \n",
       "2            148  2016-05-06       2016-06-05         30 days  successful  \n",
       "3             56  2015-07-24       2015-08-08         15 days  successful  \n",
       "4             31  2015-12-10       2015-12-31         21 days  successful  "
      ]
     },
     "execution_count": 13,
     "metadata": {},
     "output_type": "execute_result"
    }
   ],
   "source": [
    "#kick_data = k_var_state.drop(['goal', 'static_usd_rate','currency','category'], axis=1)\n",
    "kick_data= k_var_state[['name','category_name','blurb','blurb_count','goal_USD','backers_count','launched_at','state_changed_at','days_to_change','state']]\n",
    "kick_data.head()"
   ]
  },
  {
   "cell_type": "markdown",
   "metadata": {},
   "source": [
    "# Goal:\n",
    "    # Want to automate this process so that I can do this for the other 37 files..."
   ]
  },
  {
   "cell_type": "markdown",
   "metadata": {
    "collapsed": false
   },
   "source": [
    "# Get going by asking the following questions and looking for the answers with some code and plots:\n",
    "\n",
    "    Can you count something interesting?\n",
    "\n",
    "    Can you find some trends (high, low, increase, decrease, anomalies)?\n",
    "\n",
    "    Can you make a bar plot or a histogram?\n",
    "\n",
    "    Can you compare two related quantities?\n",
    "\n",
    "    Can you make a scatterplot?\n",
    "\n",
    "    Can you make a time-series plot?\n"
   ]
  },
  {
   "cell_type": "code",
   "execution_count": 14,
   "metadata": {
    "collapsed": false
   },
   "outputs": [
    {
     "data": {
      "text/html": [
       "<div>\n",
       "<table border=\"1\" class=\"dataframe\">\n",
       "  <thead>\n",
       "    <tr>\n",
       "      <th></th>\n",
       "      <th colspan=\"8\" halign=\"left\">backers_count</th>\n",
       "    </tr>\n",
       "    <tr>\n",
       "      <th></th>\n",
       "      <th colspan=\"4\" halign=\"left\">size</th>\n",
       "      <th colspan=\"4\" halign=\"left\">sum</th>\n",
       "    </tr>\n",
       "    <tr>\n",
       "      <th>state</th>\n",
       "      <th>canceled</th>\n",
       "      <th>failed</th>\n",
       "      <th>successful</th>\n",
       "      <th>suspended</th>\n",
       "      <th>canceled</th>\n",
       "      <th>failed</th>\n",
       "      <th>successful</th>\n",
       "      <th>suspended</th>\n",
       "    </tr>\n",
       "    <tr>\n",
       "      <th>launched_at</th>\n",
       "      <th></th>\n",
       "      <th></th>\n",
       "      <th></th>\n",
       "      <th></th>\n",
       "      <th></th>\n",
       "      <th></th>\n",
       "      <th></th>\n",
       "      <th></th>\n",
       "    </tr>\n",
       "  </thead>\n",
       "  <tbody>\n",
       "    <tr>\n",
       "      <th>2009</th>\n",
       "      <td>8.0</td>\n",
       "      <td>32.0</td>\n",
       "      <td>12.0</td>\n",
       "      <td>0.0</td>\n",
       "      <td>22.0</td>\n",
       "      <td>221.0</td>\n",
       "      <td>539.0</td>\n",
       "      <td>0.0</td>\n",
       "    </tr>\n",
       "    <tr>\n",
       "      <th>2010</th>\n",
       "      <td>33.0</td>\n",
       "      <td>97.0</td>\n",
       "      <td>26.0</td>\n",
       "      <td>0.0</td>\n",
       "      <td>102.0</td>\n",
       "      <td>740.0</td>\n",
       "      <td>1171.0</td>\n",
       "      <td>0.0</td>\n",
       "    </tr>\n",
       "    <tr>\n",
       "      <th>2011</th>\n",
       "      <td>36.0</td>\n",
       "      <td>208.0</td>\n",
       "      <td>96.0</td>\n",
       "      <td>2.0</td>\n",
       "      <td>82.0</td>\n",
       "      <td>1494.0</td>\n",
       "      <td>4953.0</td>\n",
       "      <td>4.0</td>\n",
       "    </tr>\n",
       "    <tr>\n",
       "      <th>2012</th>\n",
       "      <td>59.0</td>\n",
       "      <td>357.0</td>\n",
       "      <td>122.0</td>\n",
       "      <td>0.0</td>\n",
       "      <td>327.0</td>\n",
       "      <td>3006.0</td>\n",
       "      <td>9775.0</td>\n",
       "      <td>0.0</td>\n",
       "    </tr>\n",
       "    <tr>\n",
       "      <th>2013</th>\n",
       "      <td>50.0</td>\n",
       "      <td>369.0</td>\n",
       "      <td>120.0</td>\n",
       "      <td>0.0</td>\n",
       "      <td>330.0</td>\n",
       "      <td>3514.0</td>\n",
       "      <td>13257.0</td>\n",
       "      <td>0.0</td>\n",
       "    </tr>\n",
       "    <tr>\n",
       "      <th>2014</th>\n",
       "      <td>128.0</td>\n",
       "      <td>698.0</td>\n",
       "      <td>130.0</td>\n",
       "      <td>0.0</td>\n",
       "      <td>565.0</td>\n",
       "      <td>3527.0</td>\n",
       "      <td>9583.0</td>\n",
       "      <td>0.0</td>\n",
       "    </tr>\n",
       "    <tr>\n",
       "      <th>2015</th>\n",
       "      <td>152.0</td>\n",
       "      <td>870.0</td>\n",
       "      <td>139.0</td>\n",
       "      <td>9.0</td>\n",
       "      <td>1394.0</td>\n",
       "      <td>3611.0</td>\n",
       "      <td>16178.0</td>\n",
       "      <td>5.0</td>\n",
       "    </tr>\n",
       "    <tr>\n",
       "      <th>2016</th>\n",
       "      <td>69.0</td>\n",
       "      <td>286.0</td>\n",
       "      <td>47.0</td>\n",
       "      <td>1.0</td>\n",
       "      <td>362.0</td>\n",
       "      <td>1817.0</td>\n",
       "      <td>2728.0</td>\n",
       "      <td>0.0</td>\n",
       "    </tr>\n",
       "  </tbody>\n",
       "</table>\n",
       "</div>"
      ],
      "text/plain": [
       "            backers_count                                               \\\n",
       "                     size                                  sum           \n",
       "state            canceled failed successful suspended canceled  failed   \n",
       "launched_at                                                              \n",
       "2009                  8.0   32.0       12.0       0.0     22.0   221.0   \n",
       "2010                 33.0   97.0       26.0       0.0    102.0   740.0   \n",
       "2011                 36.0  208.0       96.0       2.0     82.0  1494.0   \n",
       "2012                 59.0  357.0      122.0       0.0    327.0  3006.0   \n",
       "2013                 50.0  369.0      120.0       0.0    330.0  3514.0   \n",
       "2014                128.0  698.0      130.0       0.0    565.0  3527.0   \n",
       "2015                152.0  870.0      139.0       9.0   1394.0  3611.0   \n",
       "2016                 69.0  286.0       47.0       1.0    362.0  1817.0   \n",
       "\n",
       "                                  \n",
       "                                  \n",
       "state       successful suspended  \n",
       "launched_at                       \n",
       "2009             539.0       0.0  \n",
       "2010            1171.0       0.0  \n",
       "2011            4953.0       4.0  \n",
       "2012            9775.0       0.0  \n",
       "2013           13257.0       0.0  \n",
       "2014            9583.0       0.0  \n",
       "2015           16178.0       5.0  \n",
       "2016            2728.0       0.0  "
      ]
     },
     "execution_count": 14,
     "metadata": {},
     "output_type": "execute_result"
    }
   ],
   "source": [
    "# Can you count something interesting? \n",
    "# Looking at number of successful, canceled, live and suspended projects and \n",
    "# relative numb of backers per year per state.\n",
    "\n",
    "g = kick_data[['backers_count','state']].groupby(['state', kick_data['launched_at'].dt.year,]).agg(['size','sum'])\n",
    "g.unstack('state').fillna(0)\n",
    "\n",
    "# Will have to divide sum (count of backers) by size (total number of projects) per year, per state \n",
    "# to get relative fraction of backers at that point."
   ]
  },
  {
   "cell_type": "code",
   "execution_count": 15,
   "metadata": {
    "collapsed": false
   },
   "outputs": [
    {
     "data": {
      "text/plain": [
       "<matplotlib.text.Text at 0x109842650>"
      ]
     },
     "execution_count": 15,
     "metadata": {},
     "output_type": "execute_result"
    },
    {
     "data": {
      "image/png": "[encoded data removed]",
      "text/plain": [
       "<matplotlib.figure.Figure at 0x10895d7d0>"
      ]
     },
     "metadata": {},
     "output_type": "display_data"
    }
   ],
   "source": [
    "import matplotlib.pyplot as plt\n",
    "%matplotlib inline\n",
    "# Can you find some trends (high, low, increase, decrease, anomalies)?\n",
    "# Looking at number of projects launched per year and number of backers per year across all \n",
    "# states.\n",
    "\n",
    "g_size = kick_data[['backers_count']].groupby([kick_data['launched_at'].dt.year,]).agg(['size'])\n",
    "g_sum = kick_data[['backers_count']].groupby([kick_data['launched_at'].dt.year,]).agg(['sum'])\n",
    "\n",
    "fig, axes = plt.subplots(nrows=2, ncols=1)\n",
    "g_size.plot(ax=axes[0], kind= 'bar'); axes[0].set_title('total projects'); #plt.legend(loc='best')\n",
    "g_sum.plot(ax=axes[1], kind = 'bar'); axes[1].set_title('total backers'); #plt.legend(loc='best')\n",
    "\n",
    "\n",
    "# Conclusion: 1. There is not an equal number of projects or backers across years.\n",
    "#             2. Number of backers and number of projects logicaly seem to correlate\n",
    "#             3. As there are different number of projects launched per year, it is \n",
    "#                plausable that year has an effect on state of project and/or number of backers.\n",
    "#             SOLUTION: Choose projects from recent years (2014-2016)\n",
    "\n",
    "# Can you make a time-series plot?\n",
    "\n",
    "# will want to limit data to only 2014 and 2014 projects (aka recent)"
   ]
  },
  {
   "cell_type": "code",
   "execution_count": 16,
   "metadata": {
    "collapsed": false
   },
   "outputs": [
    {
     "name": "stdout",
     "output_type": "stream",
     "text": [
      "state\n",
      "canceled       535\n",
      "failed        2917\n",
      "live            28\n",
      "successful     692\n",
      "suspended       12\n",
      "dtype: int64\n"
     ]
    },
    {
     "data": {
      "text/plain": [
       "<matplotlib.axes._subplots.AxesSubplot at 0x1086f9f10>"
      ]
     },
     "execution_count": 16,
     "metadata": {},
     "output_type": "execute_result"
    },
    {
     "data": {
      "image/png": "[encoded data removed]",
      "text/plain": [
       "<matplotlib.figure.Figure at 0x1086f9690>"
      ]
     },
     "metadata": {},
     "output_type": "display_data"
    }
   ],
   "source": [
    "# Can you make a bar plot or a histogram?\n",
    "# number of project per state over all years: will use k_var bc kick_data does not have live data in it.\n",
    "# Conclustion: most projects, regardless of year, end up failing. \n",
    "\n",
    "%matplotlib inline\n",
    "from matplotlib import pyplot as plt\n",
    "from itertools import cycle, islice\n",
    "\n",
    "my_colors = list(islice(cycle(['b', 'r', 'g', 'y','k']), None, len(k_var)))\n",
    "g = k_var.groupby(['state']).size()\n",
    "print g\n",
    "g.plot(kind='bar', stacked = True, color=my_colors)"
   ]
  },
  {
   "cell_type": "raw",
   "metadata": {
    "collapsed": true
   },
   "source": [
    "# Can you make a bar plot or a histogram?\n",
    "# divide count (of backers) by size (number of projects) to get average number of backers per year.\n",
    "%matplotlib inline\n",
    "k_success = k_var[k_var.state == 'successful']\n",
    "g = k_success[['backers_count','state']].groupby(['state', k_success['launched_at'].dt.year])\n",
    "agg = g.agg(['sum']).unstack('state')\n",
    "r = agg.reset_index()\n",
    "agg.plot(kind = 'bar')\n",
    "#agg.plot()"
   ]
  },
  {
   "cell_type": "code",
   "execution_count": 17,
   "metadata": {
    "collapsed": false
   },
   "outputs": [
    {
     "name": "stderr",
     "output_type": "stream",
     "text": [
      "/anaconda/lib/python2.7/site-packages/ipykernel/__main__.py:11: UserWarning: Boolean Series key will be reindexed to match DataFrame index.\n"
     ]
    },
    {
     "name": "stdout",
     "output_type": "stream",
     "text": [
      "state        canceled  failed  successful\n",
      "launched_at                              \n",
      "2009                8      32          12\n",
      "2010               33      97          26\n",
      "2011               36     208          96\n",
      "2012               59     357         122\n",
      "2013               50     369         120\n",
      "2014              128     698         130\n",
      "2015              152     870         139\n",
      "2016               69     286          47\n"
     ]
    },
    {
     "data": {
      "text/plain": [
       "<matplotlib.axes._subplots.AxesSubplot at 0x10c759950>"
      ]
     },
     "execution_count": 17,
     "metadata": {},
     "output_type": "execute_result"
    },
    {
     "data": {
      "image/png": "[encoded data removed]",
      "text/plain": [
       "<matplotlib.figure.Figure at 0x102a478d0>"
      ]
     },
     "metadata": {},
     "output_type": "display_data"
    }
   ],
   "source": [
    "# number of projects per state, per year: (kickstarter was launched, on April 28, 2009)\n",
    "\n",
    "# want to get percentage of backers per state per year...\n",
    "# (% will account for variation in # of projects per year, per state)\n",
    "\n",
    "from matplotlib import pyplot as plt\n",
    "from itertools import cycle, islice\n",
    "\n",
    "#excluding live and suspended projects from the dataset:\n",
    "my_colors = list(islice(cycle(['b', 'r', 'g']), None, len(k_var)))\n",
    "g = k_var[k_var.state != 'live'][k_var.state != 'suspended'].groupby([k_var['launched_at'].dt.year, 'state']).size()\n",
    "g = g.unstack().fillna(0)\n",
    "print g #raw counts\n",
    "g.plot(kind='bar', color=my_colors)"
   ]
  },
  {
   "cell_type": "code",
   "execution_count": 18,
   "metadata": {
    "collapsed": true
   },
   "outputs": [],
   "source": [
    "# seems like 2016 - 2014 is current\n",
    "# what may be driving this 2x increase in kickstarter:\n",
    "    # increased popularity "
   ]
  },
  {
   "cell_type": "code",
   "execution_count": 19,
   "metadata": {
    "collapsed": false
   },
   "outputs": [
    {
     "name": "stdout",
     "output_type": "stream",
     "text": [
      "            backers_count                  \n",
      "state            canceled failed successful\n",
      "launched_at                                \n",
      "2009                   22    221        539\n",
      "2010                  102    740       1171\n",
      "2011                   82   1494       4953\n",
      "2012                  327   3006       9775\n",
      "2013                  330   3514      13257\n",
      "2014                  565   3527       9583\n",
      "2015                 1394   3611      16178\n",
      "2016                  362   1817       2728\n"
     ]
    },
    {
     "data": {
      "text/plain": [
       "<matplotlib.axes._subplots.AxesSubplot at 0x10a233650>"
      ]
     },
     "execution_count": 19,
     "metadata": {},
     "output_type": "execute_result"
    },
    {
     "data": {
      "image/png": "[encoded data removed]",
      "text/plain": [
       "<matplotlib.figure.Figure at 0x109ee23d0>"
      ]
     },
     "metadata": {},
     "output_type": "display_data"
    },
    {
     "data": {
      "image/png": "[encoded data removed]",
      "text/plain": [
       "<matplotlib.figure.Figure at 0x10a205450>"
      ]
     },
     "metadata": {},
     "output_type": "display_data"
    }
   ],
   "source": [
    "# Number of backers per year per state \n",
    "\n",
    "kick_data_state = kick_data[kick_data.state != 'suspended']#[kick_data_state['launched_at'].dt.year != 2016]\n",
    "g = kick_data_state[['backers_count','state','launched_at']].groupby(['state', kick_data_state['launched_at'].dt.year]).sum()\n",
    "g = g.unstack('state')\n",
    "print g\n",
    "g.plot(kind='bar')\n",
    "g.plot(kind='area')\n",
    "\n",
    "#kick_data_state.dtypes"
   ]
  },
  {
   "cell_type": "code",
   "execution_count": 20,
   "metadata": {
    "collapsed": false
   },
   "outputs": [
    {
     "data": {
      "text/html": [
       "<div>\n",
       "<table border=\"1\" class=\"dataframe\">\n",
       "  <thead>\n",
       "    <tr style=\"text-align: right;\">\n",
       "      <th></th>\n",
       "      <th>name</th>\n",
       "      <th>category_name</th>\n",
       "      <th>blurb</th>\n",
       "      <th>blurb_count</th>\n",
       "      <th>goal_USD</th>\n",
       "      <th>backers_count</th>\n",
       "      <th>launched_at</th>\n",
       "      <th>state_changed_at</th>\n",
       "      <th>days_to_change</th>\n",
       "      <th>state</th>\n",
       "    </tr>\n",
       "    <tr>\n",
       "      <th>launched_at</th>\n",
       "      <th></th>\n",
       "      <th></th>\n",
       "      <th></th>\n",
       "      <th></th>\n",
       "      <th></th>\n",
       "      <th></th>\n",
       "      <th></th>\n",
       "      <th></th>\n",
       "      <th></th>\n",
       "      <th></th>\n",
       "    </tr>\n",
       "  </thead>\n",
       "  <tbody>\n",
       "    <tr>\n",
       "      <th>2009</th>\n",
       "      <td>52</td>\n",
       "      <td>52</td>\n",
       "      <td>52</td>\n",
       "      <td>52</td>\n",
       "      <td>52</td>\n",
       "      <td>52</td>\n",
       "      <td>52</td>\n",
       "      <td>52</td>\n",
       "      <td>52</td>\n",
       "      <td>52</td>\n",
       "    </tr>\n",
       "    <tr>\n",
       "      <th>2010</th>\n",
       "      <td>156</td>\n",
       "      <td>156</td>\n",
       "      <td>156</td>\n",
       "      <td>156</td>\n",
       "      <td>156</td>\n",
       "      <td>156</td>\n",
       "      <td>156</td>\n",
       "      <td>156</td>\n",
       "      <td>156</td>\n",
       "      <td>156</td>\n",
       "    </tr>\n",
       "    <tr>\n",
       "      <th>2011</th>\n",
       "      <td>339</td>\n",
       "      <td>340</td>\n",
       "      <td>339</td>\n",
       "      <td>339</td>\n",
       "      <td>340</td>\n",
       "      <td>340</td>\n",
       "      <td>340</td>\n",
       "      <td>340</td>\n",
       "      <td>340</td>\n",
       "      <td>340</td>\n",
       "    </tr>\n",
       "    <tr>\n",
       "      <th>2012</th>\n",
       "      <td>538</td>\n",
       "      <td>538</td>\n",
       "      <td>537</td>\n",
       "      <td>537</td>\n",
       "      <td>538</td>\n",
       "      <td>538</td>\n",
       "      <td>538</td>\n",
       "      <td>538</td>\n",
       "      <td>538</td>\n",
       "      <td>538</td>\n",
       "    </tr>\n",
       "    <tr>\n",
       "      <th>2013</th>\n",
       "      <td>539</td>\n",
       "      <td>539</td>\n",
       "      <td>539</td>\n",
       "      <td>539</td>\n",
       "      <td>539</td>\n",
       "      <td>539</td>\n",
       "      <td>539</td>\n",
       "      <td>539</td>\n",
       "      <td>539</td>\n",
       "      <td>539</td>\n",
       "    </tr>\n",
       "    <tr>\n",
       "      <th>2014</th>\n",
       "      <td>956</td>\n",
       "      <td>956</td>\n",
       "      <td>956</td>\n",
       "      <td>956</td>\n",
       "      <td>956</td>\n",
       "      <td>956</td>\n",
       "      <td>956</td>\n",
       "      <td>956</td>\n",
       "      <td>956</td>\n",
       "      <td>956</td>\n",
       "    </tr>\n",
       "    <tr>\n",
       "      <th>2015</th>\n",
       "      <td>1161</td>\n",
       "      <td>1161</td>\n",
       "      <td>1160</td>\n",
       "      <td>1160</td>\n",
       "      <td>1161</td>\n",
       "      <td>1161</td>\n",
       "      <td>1161</td>\n",
       "      <td>1161</td>\n",
       "      <td>1161</td>\n",
       "      <td>1161</td>\n",
       "    </tr>\n",
       "    <tr>\n",
       "      <th>2016</th>\n",
       "      <td>402</td>\n",
       "      <td>402</td>\n",
       "      <td>402</td>\n",
       "      <td>402</td>\n",
       "      <td>402</td>\n",
       "      <td>402</td>\n",
       "      <td>402</td>\n",
       "      <td>402</td>\n",
       "      <td>402</td>\n",
       "      <td>402</td>\n",
       "    </tr>\n",
       "  </tbody>\n",
       "</table>\n",
       "</div>"
      ],
      "text/plain": [
       "             name  category_name  blurb  blurb_count  goal_USD  backers_count  \\\n",
       "launched_at                                                                     \n",
       "2009           52             52     52           52        52             52   \n",
       "2010          156            156    156          156       156            156   \n",
       "2011          339            340    339          339       340            340   \n",
       "2012          538            538    537          537       538            538   \n",
       "2013          539            539    539          539       539            539   \n",
       "2014          956            956    956          956       956            956   \n",
       "2015         1161           1161   1160         1160      1161           1161   \n",
       "2016          402            402    402          402       402            402   \n",
       "\n",
       "             launched_at  state_changed_at  days_to_change  state  \n",
       "launched_at                                                        \n",
       "2009                  52                52              52     52  \n",
       "2010                 156               156             156    156  \n",
       "2011                 340               340             340    340  \n",
       "2012                 538               538             538    538  \n",
       "2013                 539               539             539    539  \n",
       "2014                 956               956             956    956  \n",
       "2015                1161              1161            1161   1161  \n",
       "2016                 402               402             402    402  "
      ]
     },
     "execution_count": 20,
     "metadata": {},
     "output_type": "execute_result"
    }
   ],
   "source": [
    "kick_data_state.groupby([kick_data_state['launched_at'].dt.year]).count()"
   ]
  },
  {
   "cell_type": "code",
   "execution_count": 21,
   "metadata": {
    "collapsed": false
   },
   "outputs": [
    {
     "data": {
      "text/plain": [
       "[<matplotlib.lines.Line2D at 0x10a174410>]"
      ]
     },
     "execution_count": 21,
     "metadata": {},
     "output_type": "execute_result"
    },
    {
     "data": {
      "text/plain": [
       "<matplotlib.figure.Figure at 0x109995cd0>"
      ]
     },
     "metadata": {},
     "output_type": "display_data"
    },
    {
     "data": {
      "image/png": "[encoded data removed]",
      "text/plain": [
       "<matplotlib.figure.Figure at 0x109d22410>"
      ]
     },
     "metadata": {},
     "output_type": "display_data"
    }
   ],
   "source": [
    "import numpy as np\n",
    "import matplotlib.pyplot as plt\n",
    "\n",
    "# Can you compare two related quantities? \n",
    "    # Does number of backers correlate with number of words in blurb? linear regression\n",
    "    # Does number of backers correlate with state? logistic regression\n",
    "\n",
    "# Can you make a scatterplot?\n",
    " \n",
    "fig = plt.figure(figsize=(5, 4))\n",
    "fig, ax = plt.subplots()\n",
    "\n",
    "x = kick_data[['blurb_count']]\n",
    "y = kick_data[['backers_count']]\n",
    "ax.set_title(\"blurb vs. backers\")\n",
    "ax.set_xlabel(\"blurb count\")\n",
    "ax.set_ylabel(\"backer count\")\n",
    "\n",
    "plt.plot(x, y, 'o', color='red')"
   ]
  },
  {
   "cell_type": "code",
   "execution_count": 22,
   "metadata": {
    "collapsed": false
   },
   "outputs": [
    {
     "data": {
      "text/html": [
       "<div>\n",
       "<table border=\"1\" class=\"dataframe\">\n",
       "  <thead>\n",
       "    <tr style=\"text-align: right;\">\n",
       "      <th></th>\n",
       "      <th>backer count</th>\n",
       "      <th>blurb count</th>\n",
       "    </tr>\n",
       "  </thead>\n",
       "  <tbody>\n",
       "    <tr>\n",
       "      <th>backer count</th>\n",
       "      <td>1.000000</td>\n",
       "      <td>0.013844</td>\n",
       "    </tr>\n",
       "    <tr>\n",
       "      <th>blurb count</th>\n",
       "      <td>0.013844</td>\n",
       "      <td>1.000000</td>\n",
       "    </tr>\n",
       "  </tbody>\n",
       "</table>\n",
       "</div>"
      ],
      "text/plain": [
       "              backer count  blurb count\n",
       "backer count      1.000000     0.013844\n",
       "blurb count       0.013844     1.000000"
      ]
     },
     "execution_count": 22,
     "metadata": {},
     "output_type": "execute_result"
    }
   ],
   "source": [
    "kick_corr = pd.DataFrame({'blurb count': kick_data['blurb_count'], \n",
    "                        'backer count': kick_data['backers_count']})\n",
    "kick_corr.corr(method='pearson')"
   ]
  },
  {
   "cell_type": "code",
   "execution_count": 23,
   "metadata": {
    "collapsed": false
   },
   "outputs": [],
   "source": [
    "#kick_data[kick_data.backers_count != 0]\n",
    "#kick_data[(kick_data.state == 'successful')]"
   ]
  },
  {
   "cell_type": "code",
   "execution_count": 24,
   "metadata": {
    "collapsed": false
   },
   "outputs": [
    {
     "name": "stdout",
     "output_type": "stream",
     "text": [
      "0    successful\n",
      "1    successful\n",
      "2    successful\n",
      "3    successful\n",
      "4    successful\n",
      "Name: state, dtype: object\n",
      "4179    failed\n",
      "4180    failed\n",
      "4181    failed\n",
      "4182    failed\n",
      "4183    failed\n",
      "Name: state, dtype: object\n"
     ]
    }
   ],
   "source": [
    "print kick_data_state[\"state\"].head()\n",
    "print kick_data_state[\"state\"].tail()"
   ]
  },
  {
   "cell_type": "code",
   "execution_count": 25,
   "metadata": {
    "collapsed": false
   },
   "outputs": [
    {
     "name": "stderr",
     "output_type": "stream",
     "text": [
      "/anaconda/lib/python2.7/site-packages/ipykernel/__main__.py:2: UserWarning: Boolean Series key will be reindexed to match DataFrame index.\n",
      "  from ipykernel import kernelapp as app\n"
     ]
    }
   ],
   "source": [
    "# Removing supspended and limiting dataset to recent years\n",
    "kick_data_state = kick_data[kick_data.state != 'suspended'][kick_data['launched_at'].dt.year >= 2014]"
   ]
  },
  {
   "cell_type": "code",
   "execution_count": 26,
   "metadata": {
    "collapsed": false
   },
   "outputs": [
    {
     "data": {
      "text/plain": [
       "<matplotlib.axes._subplots.AxesSubplot at 0x10a31ee10>"
      ]
     },
     "execution_count": 26,
     "metadata": {},
     "output_type": "execute_result"
    },
    {
     "data": {
      "image/png": "[encoded data removed]",
      "text/plain": [
       "<matplotlib.figure.Figure at 0x10a329c50>"
      ]
     },
     "metadata": {},
     "output_type": "display_data"
    }
   ],
   "source": [
    "g = kick_data_state[['backers_count','state']].groupby(['state']).count()\n",
    "my_colors = list(islice(cycle(['b', 'g', 'r']), None, len(kick_data_state[['state']])))\n",
    "g.plot(kind = 'bar', color = my_colors)"
   ]
  },
  {
   "cell_type": "markdown",
   "metadata": {},
   "source": [
    "# Logistic Regression 1"
   ]
  },
  {
   "cell_type": "code",
   "execution_count": 27,
   "metadata": {
    "collapsed": false,
    "scrolled": true
   },
   "outputs": [
    {
     "name": "stdout",
     "output_type": "stream",
     "text": [
      "[2 2 2 ..., 1 1 1]\n",
      "[-1.71871925  1.55829751 -3.08509501]\n",
      "[[-0.01100333]\n",
      " [-0.04777349]\n",
      " [ 0.0686825 ]]\n"
     ]
    },
    {
     "name": "stderr",
     "output_type": "stream",
     "text": [
      "//anaconda/lib/python2.7/site-packages/sklearn/utils/validation.py:449: DataConversionWarning: A column-vector y was passed when a 1d array was expected. Please change the shape of y to (n_samples, ), for example using ravel().\n",
      "  y = column_or_1d(y, warn=True)\n"
     ]
    },
    {
     "data": {
      "text/html": [
       "<div>\n",
       "<table border=\"1\" class=\"dataframe\">\n",
       "  <thead>\n",
       "    <tr style=\"text-align: right;\">\n",
       "      <th></th>\n",
       "      <th>backer count</th>\n",
       "      <th>state</th>\n",
       "    </tr>\n",
       "  </thead>\n",
       "  <tbody>\n",
       "    <tr>\n",
       "      <th>backer count</th>\n",
       "      <td>1.000000</td>\n",
       "      <td>0.297537</td>\n",
       "    </tr>\n",
       "    <tr>\n",
       "      <th>state</th>\n",
       "      <td>0.297537</td>\n",
       "      <td>1.000000</td>\n",
       "    </tr>\n",
       "  </tbody>\n",
       "</table>\n",
       "</div>"
      ],
      "text/plain": [
       "              backer count     state\n",
       "backer count      1.000000  0.297537\n",
       "state             0.297537  1.000000"
      ]
     },
     "execution_count": 27,
     "metadata": {},
     "output_type": "execute_result"
    }
   ],
   "source": [
    "import scipy.stats as stats\n",
    "import matplotlib\n",
    "import matplotlib.pyplot as plt\n",
    "matplotlib.style.use('ggplot')\n",
    "\n",
    "from sklearn import linear_model\n",
    "from sklearn import preprocessing\n",
    "\n",
    "# Initialize label encoder\n",
    "label_encoder = preprocessing.LabelEncoder()\n",
    "\n",
    "# Convert State variable to numeric\n",
    "encoded_state = label_encoder.fit_transform(kick_data_state[\"state\"])\n",
    "print encoded_state\n",
    "\n",
    "# Initialize logistic regression model\n",
    "log_model = linear_model.LogisticRegression()\n",
    "\n",
    "# Train the model\n",
    "log_model.fit(X = pd.DataFrame(kick_data_state.backers_count.reset_index(drop=True)),\n",
    "              y = pd.DataFrame(encoded_state))\n",
    "\n",
    "# Check trained model intercept\n",
    "print log_model.intercept_\n",
    "\n",
    "# Check trained model coefficients\n",
    "print log_model.coef_\n",
    "\n",
    "kick_corr2 = pd.DataFrame({'state': encoded_state, \n",
    "                        'backer count': kick_data_state['backers_count']})\n",
    "kick_corr2.corr(method='pearson')"
   ]
  },
  {
   "cell_type": "markdown",
   "metadata": {},
   "source": [
    "# Logistic Regression 2"
   ]
  },
  {
   "cell_type": "code",
   "execution_count": 46,
   "metadata": {
    "collapsed": false,
    "scrolled": true
   },
   "outputs": [
    {
     "name": "stdout",
     "output_type": "stream",
     "text": [
      "Index([u'Intercept', u'backers_count'], dtype='object')\n"
     ]
    }
   ],
   "source": [
    "# Logistic Regression: backers_count and state\n",
    "from patsy import dmatrices\n",
    "\n",
    "dta = kick_data_state\n",
    "\n",
    "encoded_state = label_encoder.fit_transform(kick_data_state[\"state\"])\n",
    "kick_data_state['encoded_state'] = encoded_state\n",
    "\n",
    "y, X = dmatrices('encoded_state ~ 1 + backers_count', kick_data_state, return_type=\"dataframe\")\n",
    "print X.columns\n",
    "\n",
    "#kick_data_state\n",
    "#print kick_data_state.columns\n",
    "#kick_data_state[(kick_data_state.encoded_state == 2)]"
   ]
  },
  {
   "cell_type": "code",
   "execution_count": 29,
   "metadata": {
    "collapsed": false
   },
   "outputs": [
    {
     "data": {
      "text/plain": [
       "array([ 2.,  2.,  2., ...,  1.,  1.,  1.])"
      ]
     },
     "execution_count": 29,
     "metadata": {},
     "output_type": "execute_result"
    }
   ],
   "source": [
    "y = np.ravel(y)\n",
    "y"
   ]
  },
  {
   "cell_type": "code",
   "execution_count": 47,
   "metadata": {
    "collapsed": false
   },
   "outputs": [
    {
     "name": "stderr",
     "output_type": "stream",
     "text": [
      "//anaconda/lib/python2.7/site-packages/sklearn/utils/validation.py:449: DataConversionWarning: A column-vector y was passed when a 1d array was expected. Please change the shape of y to (n_samples, ), for example using ravel().\n",
      "  y = column_or_1d(y, warn=True)\n"
     ]
    },
    {
     "data": {
      "text/plain": [
       "0.78840809845176663"
      ]
     },
     "execution_count": 47,
     "metadata": {},
     "output_type": "execute_result"
    }
   ],
   "source": [
    "from sklearn.linear_model import LogisticRegression\n",
    "\n",
    "# instantiate a logistic regression model, and fit with X and y\n",
    "model = LogisticRegression()\n",
    "model = model.fit(X, y)\n",
    "\n",
    "# check the accuracy on the training set\n",
    "model.score(X, y)"
   ]
  },
  {
   "cell_type": "code",
   "execution_count": 48,
   "metadata": {
    "collapsed": false
   },
   "outputs": [
    {
     "data": {
      "text/plain": [
       "encoded_state    0.9869\n",
       "dtype: float64"
      ]
     },
     "execution_count": 48,
     "metadata": {},
     "output_type": "execute_result"
    }
   ],
   "source": [
    "# what percentage...are not state 0? came from example where affairs = 1 and no affairs = 0?\n",
    "y.mean()"
   ]
  },
  {
   "cell_type": "code",
   "execution_count": 49,
   "metadata": {
    "collapsed": false
   },
   "outputs": [
    {
     "data": {
      "text/html": [
       "<div>\n",
       "<table border=\"1\" class=\"dataframe\">\n",
       "  <thead>\n",
       "    <tr style=\"text-align: right;\">\n",
       "      <th></th>\n",
       "      <th>0</th>\n",
       "      <th>1</th>\n",
       "    </tr>\n",
       "  </thead>\n",
       "  <tbody>\n",
       "    <tr>\n",
       "      <th>0</th>\n",
       "      <td>Intercept</td>\n",
       "      <td>[-0.861020071424, 0.780430190827, -1.5503094567]</td>\n",
       "    </tr>\n",
       "    <tr>\n",
       "      <th>1</th>\n",
       "      <td>backers_count</td>\n",
       "      <td>[-0.0109309523929, -0.0478501502762, 0.0690744...</td>\n",
       "    </tr>\n",
       "  </tbody>\n",
       "</table>\n",
       "</div>"
      ],
      "text/plain": [
       "               0                                                  1\n",
       "0      Intercept   [-0.861020071424, 0.780430190827, -1.5503094567]\n",
       "1  backers_count  [-0.0109309523929, -0.0478501502762, 0.0690744..."
      ]
     },
     "execution_count": 49,
     "metadata": {},
     "output_type": "execute_result"
    }
   ],
   "source": [
    "# examine the coefficients\n",
    "pd.DataFrame(zip(X.columns, np.transpose(model.coef_)))"
   ]
  },
  {
   "cell_type": "code",
   "execution_count": 33,
   "metadata": {
    "collapsed": false
   },
   "outputs": [
    {
     "data": {
      "text/plain": [
       "LogisticRegression(C=1.0, class_weight=None, dual=False, fit_intercept=True,\n",
       "          intercept_scaling=1, max_iter=100, multi_class='ovr',\n",
       "          penalty='l2', random_state=None, solver='liblinear', tol=0.0001,\n",
       "          verbose=0)"
      ]
     },
     "execution_count": 33,
     "metadata": {},
     "output_type": "execute_result"
    }
   ],
   "source": [
    "from sklearn.cross_validation import train_test_split\n",
    "# evaluate the model by splitting into train and test sets\n",
    "X_train, X_test, y_train, y_test = train_test_split(X, y, test_size=0.3, random_state=0)\n",
    "model2 = LogisticRegression()\n",
    "model2.fit(X_train, y_train)"
   ]
  },
  {
   "cell_type": "code",
   "execution_count": 34,
   "metadata": {
    "collapsed": false
   },
   "outputs": [
    {
     "name": "stdout",
     "output_type": "stream",
     "text": [
      "[ 1.  1.  1.  1.  1.  1.  1.  1.  1.  1.  1.  1.  1.  2.  1.  1.  1.  1.\n",
      "  1.  1.  1.  1.  1.  1.  1.  1.  1.  2.  1.  1.  1.  1.  1.  1.  1.  1.\n",
      "  1.  1.  1.  1.  1.  1.  1.  1.  1.  1.  1.  1.  1.  1.  1.  2.  1.  1.\n",
      "  1.  1.  1.  1.  1.  1.  1.  1.  1.  1.  1.  1.  1.  1.  1.  1.  1.  1.\n",
      "  1.  1.  1.  2.  1.  1.  1.  1.  1.  1.  1.  1.  2.  2.  1.  1.  1.  1.\n",
      "  1.  1.  1.  1.  1.  1.  1.  1.  1.  1.  1.  1.  1.  2.  1.  1.  1.  1.\n",
      "  1.  1.  1.  2.  1.  2.  1.  1.  1.  1.  1.  1.  2.  1.  1.  1.  1.  1.\n",
      "  1.  2.  1.  1.  1.  2.  1.  1.  1.  1.  1.  1.  1.  1.  2.  1.  1.  1.\n",
      "  1.  1.  1.  1.  1.  1.  1.  1.  1.  1.  1.  1.  2.  1.  1.  1.  1.  1.\n",
      "  1.  2.  1.  1.  1.  1.  1.  1.  1.  1.  1.  1.  1.  1.  1.  1.  1.  1.\n",
      "  1.  1.  2.  1.  1.  1.  1.  1.  1.  1.  1.  1.  2.  1.  1.  1.  1.  1.\n",
      "  1.  2.  1.  1.  2.  2.  1.  1.  1.  1.  1.  2.  1.  1.  1.  2.  1.  1.\n",
      "  1.  1.  1.  1.  1.  1.  1.  1.  1.  1.  1.  1.  1.  1.  1.  1.  1.  1.\n",
      "  1.  1.  1.  1.  2.  1.  1.  1.  1.  1.  1.  1.  1.  1.  1.  1.  1.  1.\n",
      "  1.  1.  1.  1.  1.  2.  1.  1.  1.  1.  1.  1.  2.  1.  1.  1.  1.  1.\n",
      "  1.  2.  1.  2.  1.  2.  1.  1.  1.  1.  1.  1.  1.  1.  1.  1.  1.  1.\n",
      "  1.  1.  1.  1.  2.  1.  1.  1.  1.  1.  1.  1.  1.  1.  1.  1.  1.  1.\n",
      "  1.  1.  1.  2.  2.  1.  1.  1.  1.  1.  1.  1.  1.  1.  2.  1.  1.  1.\n",
      "  1.  1.  1.  1.  1.  1.  2.  1.  1.  1.  1.  1.  1.  2.  1.  1.  1.  1.\n",
      "  1.  1.  1.  2.  1.  1.  1.  1.  1.  2.  1.  1.  1.  1.  1.  1.  1.  1.\n",
      "  1.  1.  1.  1.  1.  1.  1.  1.  1.  1.  1.  1.  1.  2.  1.  2.  1.  1.\n",
      "  1.  1.  1.  1.  1.  1.  1.  1.  1.  1.  1.  1.  1.  1.  1.  1.  1.  1.\n",
      "  1.  1.  1.  1.  1.  1.  1.  1.  1.  1.  1.  1.  1.  1.  1.  1.  1.  1.\n",
      "  1.  1.  1.  1.  2.  2.  1.  1.  1.  1.  2.  1.  1.  1.  1.  1.  1.  1.\n",
      "  1.  1.  1.  1.  1.  1.  2.  1.  1.  1.  1.  1.  1.  1.  1.  1.  1.  1.\n",
      "  1.  1.  1.  1.  1.  1.  1.  1.  1.  1.  1.  2.  1.  1.  1.  1.  1.  1.\n",
      "  1.  1.  1.  1.  1.  1.  1.  1.  1.  1.  1.  1.  1.  1.  1.  1.  1.  1.\n",
      "  1.  1.  1.  1.  1.  1.  1.  1.  1.  1.  1.  1.  1.  1.  1.  1.  1.  1.\n",
      "  1.  1.  1.  1.  1.  1.  1.  1.  1.  1.  1.  1.  1.  1.  1.  1.  1.  1.\n",
      "  1.  1.  1.  1.  1.  1.  1.  1.  1.  1.  1.  1.  1.  1.  1.  1.  1.  1.\n",
      "  1.  1.  1.  2.  1.  1.  1.  2.  1.  1.  2.  1.  1.  1.  2.  1.  1.  1.\n",
      "  2.  1.  1.  1.  1.  1.  1.  2.  1.  1.  1.  1.  1.  1.  1.  1.  1.  1.\n",
      "  1.  1.  1.  1.  1.  1.  1.  1.  1.  2.  1.  1.  1.  1.  1.  1.  1.  1.\n",
      "  1.  1.  1.  1.  1.  1.  1.  1.  1.  1.  1.  1.  1.  1.  1.  1.  2.  1.\n",
      "  2.  1.  1.  1.  1.  1.  1.  1.  1.  1.  1.  1.  1.  1.  1.  1.  2.  1.\n",
      "  1.  1.  1.  1.  1.  1.  1.  1.  2.  1.  1.  1.  1.  1.  1.  1.  1.  1.\n",
      "  1.  1.  1.  1.  1.  1.  1.  1.  1.  1.  1.  1.  1.  1.  1.  1.  1.  1.\n",
      "  1.  1.  1.  1.  2.  1.  1.  1.  1.  1.  1.  1.  1.  1.  2.  1.  2.  1.\n",
      "  1.  1.  1.  1.  1.  2.  1.  1.  1.  1.  1.  1.  1.  1.  2.  1.  1.  1.\n",
      "  1.  1.  1.  1.  1.  1.  1.  1.  1.  1.  1.  2.  1.  1.  1.  1.  1.  2.\n",
      "  1.  1.  2.  1.  1.  1.  1.  1.  1.  1.  1.  1.  1.  1.  1.  1.  1.  1.\n",
      "  1.  1.  1.  1.  1.  1.  1.  1.  1.  1.  1.  1.  1.  1.  1.  1.  1.  1.]\n"
     ]
    }
   ],
   "source": [
    "predicted = model2.predict(X_test)\n",
    "print predicted"
   ]
  },
  {
   "cell_type": "code",
   "execution_count": 35,
   "metadata": {
    "collapsed": false
   },
   "outputs": [
    {
     "name": "stdout",
     "output_type": "stream",
     "text": [
      "[[ 0.14206657  0.81218839  0.04574504]\n",
      " [ 0.12901684  0.58129281  0.28969035]\n",
      " [ 0.14239236  0.81507686  0.04253079]\n",
      " ..., \n",
      " [ 0.14239236  0.81507686  0.04253079]\n",
      " [ 0.14239236  0.81507686  0.04253079]\n",
      " [ 0.14239236  0.81507686  0.04253079]]\n"
     ]
    }
   ],
   "source": [
    "# generate class probabilities\n",
    "probs = model2.predict_proba(X_test)\n",
    "print probs"
   ]
  },
  {
   "cell_type": "code",
   "execution_count": 36,
   "metadata": {
    "collapsed": false
   },
   "outputs": [
    {
     "name": "stdout",
     "output_type": "stream",
     "text": [
      "0.776455026455\n"
     ]
    }
   ],
   "source": [
    "from sklearn import metrics\n",
    "# generate evaluation metrics\n",
    "print metrics.accuracy_score(y_test, predicted)\n",
    "#print metrics.roc_auc_score(y_test, probs[:, 1])"
   ]
  },
  {
   "cell_type": "code",
   "execution_count": 37,
   "metadata": {
    "collapsed": false
   },
   "outputs": [
    {
     "name": "stdout",
     "output_type": "stream",
     "text": [
      "[[  0 107   5]\n",
      " [  0 542  12]\n",
      " [  0  45  45]]\n",
      "             precision    recall  f1-score   support\n",
      "\n",
      "        0.0       0.00      0.00      0.00       112\n",
      "        1.0       0.78      0.98      0.87       554\n",
      "        2.0       0.73      0.50      0.59        90\n",
      "\n",
      "avg / total       0.66      0.78      0.71       756\n",
      "\n"
     ]
    },
    {
     "name": "stderr",
     "output_type": "stream",
     "text": [
      "//anaconda/lib/python2.7/site-packages/sklearn/metrics/classification.py:958: UndefinedMetricWarning: Precision and F-score are ill-defined and being set to 0.0 in labels with no predicted samples.\n",
      "  'precision', 'predicted', average, warn_for)\n"
     ]
    }
   ],
   "source": [
    "print metrics.confusion_matrix(y_test, predicted)\n",
    "print metrics.classification_report(y_test, predicted)"
   ]
  },
  {
   "cell_type": "code",
   "execution_count": 38,
   "metadata": {
    "collapsed": false
   },
   "outputs": [
    {
     "name": "stdout",
     "output_type": "stream",
     "text": [
      "[ 0.81027668  0.76284585  0.75098814  0.77075099  0.82142857  0.81746032\n",
      "  0.80876494  0.81673307  0.74501992  0.776     ]\n",
      "0.788026847725\n"
     ]
    }
   ],
   "source": [
    "#trying 10-fold cross-validation, to see if the accuracy holds up more rigorously.\n",
    "\n",
    "from sklearn.cross_validation import cross_val_score\n",
    "# evaluate the model using 10-fold cross-validation\n",
    "scores = cross_val_score(LogisticRegression(), X, y, scoring='accuracy', cv=10)\n",
    "print scores\n",
    "print scores.mean()"
   ]
  },
  {
   "cell_type": "code",
   "execution_count": 39,
   "metadata": {
    "collapsed": false
   },
   "outputs": [
    {
     "name": "stdout",
     "output_type": "stream",
     "text": [
      "['canceled', 'failed', 'successful']\n"
     ]
    },
    {
     "data": {
      "text/plain": [
       "array([[ 0.15943775,  0.1348532 ,  0.70570905]])"
      ]
     },
     "execution_count": 39,
     "metadata": {},
     "output_type": "execute_result"
    }
   ],
   "source": [
    "# predicting the probability of a cancle/fail/success for a project not in the dataset\n",
    "\n",
    "print list(label_encoder.inverse_transform([0,1,2]))\n",
    "\n",
    "model.predict_proba(np.array([0,50])) #first value is the intercept"
   ]
  },
  {
   "cell_type": "code",
   "execution_count": 40,
   "metadata": {
    "collapsed": false
   },
   "outputs": [
    {
     "data": {
      "text/plain": [
       "array([[ 0.09524149,  0.30809538,  0.59666313]])"
      ]
     },
     "execution_count": 40,
     "metadata": {},
     "output_type": "execute_result"
    }
   ],
   "source": [
    "model.predict_proba(np.array([1,50]))"
   ]
  },
  {
   "cell_type": "code",
   "execution_count": 41,
   "metadata": {
    "collapsed": false
   },
   "outputs": [
    {
     "data": {
      "text/plain": [
       "array([[ 0.05505688,  0.64014628,  0.30479684]])"
      ]
     },
     "execution_count": 41,
     "metadata": {},
     "output_type": "execute_result"
    }
   ],
   "source": [
    "model.predict_proba(np.array([2,50]))"
   ]
  },
  {
   "cell_type": "markdown",
   "metadata": {},
   "source": [
    "# Are there repeates in data from sub-directories?? ...Yes!"
   ]
  },
  {
   "cell_type": "code",
   "execution_count": 335,
   "metadata": {
    "collapsed": false
   },
   "outputs": [
    {
     "name": "stdout",
     "output_type": "stream",
     "text": [
      "['id' 'photo' 'name' 'blurb' 'goal' 'pledged' 'state' 'slug'\n",
      " 'disable_communication' 'country' 'currency' 'currency_symbol'\n",
      " 'currency_trailing_code' 'deadline' 'state_changed_at' 'created_at'\n",
      " 'launched_at' 'staff_pick' 'backers_count' 'static_usd_rate' 'usd_pledged'\n",
      " 'creator' 'location' 'category' 'profile' 'spotlight' 'urls' 'source_url'\n",
      " 'friends' 'is_starred' 'is_backing' 'permissions']\n"
     ]
    },
    {
     "data": {
      "text/plain": [
       "3998"
      ]
     },
     "execution_count": 335,
     "metadata": {},
     "output_type": "execute_result"
    }
   ],
   "source": [
    "k_data1 = pd.read_csv('Kickstarter_2016-07-15/Kickstarter038.csv')\n",
    "\n",
    "print k_data1.columns.values\n",
    "k_var1 = k_data1[['name','blurb','launched_at','state_changed_at','state']]\n",
    "k_var1.head()\n",
    "len(k_var1)"
   ]
  },
  {
   "cell_type": "code",
   "execution_count": 38,
   "metadata": {
    "collapsed": true
   },
   "outputs": [],
   "source": [
    "import datetime\n",
    "launch_date1 = []\n",
    "\n",
    "for date in k_var1['launched_at']:\n",
    "    new_date = datetime.datetime.fromtimestamp(int(date)).strftime('%Y-%m-%d')\n",
    "    launch_date1.append(new_date)\n",
    "launch_date1 = pd.to_datetime(launch_date1)\n",
    "\n",
    "change_date1 = []\n",
    "for date in k_var1['state_changed_at']:\n",
    "    new_date2 = datetime.datetime.fromtimestamp(int(date)).strftime('%Y-%m-%d')\n",
    "    change_date1.append(new_date2)\n",
    "change_date1 = pd.to_datetime(change_date1)"
   ]
  },
  {
   "cell_type": "code",
   "execution_count": 39,
   "metadata": {
    "collapsed": false
   },
   "outputs": [
    {
     "name": "stderr",
     "output_type": "stream",
     "text": [
      "/anaconda/lib/python2.7/site-packages/ipykernel/__main__.py:1: SettingWithCopyWarning: \n",
      "A value is trying to be set on a copy of a slice from a DataFrame.\n",
      "Try using .loc[row_indexer,col_indexer] = value instead\n",
      "\n",
      "See the caveats in the documentation: http://pandas.pydata.org/pandas-docs/stable/indexing.html#indexing-view-versus-copy\n",
      "  if __name__ == '__main__':\n",
      "/anaconda/lib/python2.7/site-packages/ipykernel/__main__.py:3: SettingWithCopyWarning: \n",
      "A value is trying to be set on a copy of a slice from a DataFrame.\n",
      "Try using .loc[row_indexer,col_indexer] = value instead\n",
      "\n",
      "See the caveats in the documentation: http://pandas.pydata.org/pandas-docs/stable/indexing.html#indexing-view-versus-copy\n",
      "  app.launch_new_instance()\n",
      "/anaconda/lib/python2.7/site-packages/ipykernel/__main__.py:4: SettingWithCopyWarning: \n",
      "A value is trying to be set on a copy of a slice from a DataFrame.\n",
      "Try using .loc[row_indexer,col_indexer] = value instead\n",
      "\n",
      "See the caveats in the documentation: http://pandas.pydata.org/pandas-docs/stable/indexing.html#indexing-view-versus-copy\n"
     ]
    }
   ],
   "source": [
    "k_var1['launched_at'] = launch_date1\n",
    "k_var1['state_changed_at'] = change_date1\n",
    "k_var1['days_to_change'] = (k_var1['state_changed_at'] - k_var1['launched_at'])"
   ]
  },
  {
   "cell_type": "code",
   "execution_count": 41,
   "metadata": {
    "collapsed": false
   },
   "outputs": [
    {
     "data": {
      "text/plain": [
       "blurb\n",
       "\"3 Days In Savannah\" explores the issues of love, racism, and regret while reminding us that, \"life is a game and love is the prize.\"      2\n",
       "\"MAMA'Z BA-B\" is the story of Marcus Williams who struggles to find a place for himself as a young black male.                             2\n",
       "Andrew Heller producing a production of an original play for the Philadelphia Fringe Festival. Written and Directed by Andrew Heller       2\n",
       "As part of the 450th anniversary of St. Augustine's founding, our art group will paint a mural depicting the town's landmark & history.    2\n",
       "Buy prints, playmats and limited edition canvases from Magic: The Gathering artist Peter Mohrbacher.                                       2\n",
       "dtype: int64"
      ]
     },
     "execution_count": 41,
     "metadata": {},
     "output_type": "execute_result"
    }
   ],
   "source": [
    "frames = [k_var, k_var1]\n",
    "k_var_concat = pd.concat(frames)\n",
    "g = k_var_concat.groupby(['blurb'])\n",
    "\n",
    "size = g.size()\n",
    "size[size > 1].head()"
   ]
  },
  {
   "cell_type": "code",
   "execution_count": 315,
   "metadata": {
    "collapsed": false
   },
   "outputs": [
    {
     "data": {
      "text/html": [
       "<div>\n",
       "<table border=\"1\" class=\"dataframe\">\n",
       "  <thead>\n",
       "    <tr style=\"text-align: right;\">\n",
       "      <th></th>\n",
       "      <th>backers_count</th>\n",
       "      <th>blurb</th>\n",
       "      <th>blurb_count</th>\n",
       "      <th>category</th>\n",
       "      <th>category_name</th>\n",
       "      <th>currency</th>\n",
       "      <th>days_to_change</th>\n",
       "      <th>goal</th>\n",
       "      <th>goal_USD</th>\n",
       "      <th>launched_at</th>\n",
       "      <th>name</th>\n",
       "      <th>state</th>\n",
       "      <th>state_changed_at</th>\n",
       "      <th>static_usd_rate</th>\n",
       "    </tr>\n",
       "  </thead>\n",
       "  <tbody>\n",
       "    <tr>\n",
       "      <th>0</th>\n",
       "      <td>18.0</td>\n",
       "      <td>I’m painting phallic and yonic themed waist ap...</td>\n",
       "      <td>12.0</td>\n",
       "      <td>{\"urls\":{\"web\":{\"discover\":\"http://www.kicksta...</td>\n",
       "      <td>art</td>\n",
       "      <td>USD</td>\n",
       "      <td>30 days</td>\n",
       "      <td>300.0</td>\n",
       "      <td>300.00000</td>\n",
       "      <td>2012-10-24</td>\n",
       "      <td>Conceptual Waist Aprons</td>\n",
       "      <td>successful</td>\n",
       "      <td>2012-11-23</td>\n",
       "      <td>1.000000</td>\n",
       "    </tr>\n",
       "    <tr>\n",
       "      <th>1</th>\n",
       "      <td>79.0</td>\n",
       "      <td>Visa ditt stöd för Mjölby Porslinsrävsmusem me...</td>\n",
       "      <td>18.0</td>\n",
       "      <td>{\"urls\":{\"web\":{\"discover\":\"http://www.kicksta...</td>\n",
       "      <td>art</td>\n",
       "      <td>SEK</td>\n",
       "      <td>17 days</td>\n",
       "      <td>3000.0</td>\n",
       "      <td>363.67812</td>\n",
       "      <td>2016-05-16</td>\n",
       "      <td>Mjölby Porslinsrävsmuseum pin</td>\n",
       "      <td>successful</td>\n",
       "      <td>2016-06-02</td>\n",
       "      <td>0.121226</td>\n",
       "    </tr>\n",
       "    <tr>\n",
       "      <th>2</th>\n",
       "      <td>148.0</td>\n",
       "      <td>cool dog is a good dog. he is best conveyed in...</td>\n",
       "      <td>28.0</td>\n",
       "      <td>{\"urls\":{\"web\":{\"discover\":\"http://www.kicksta...</td>\n",
       "      <td>art</td>\n",
       "      <td>USD</td>\n",
       "      <td>30 days</td>\n",
       "      <td>3200.0</td>\n",
       "      <td>3200.00000</td>\n",
       "      <td>2016-05-06</td>\n",
       "      <td>COOL DOG ANNUAL STICKER FUND 2016</td>\n",
       "      <td>successful</td>\n",
       "      <td>2016-06-05</td>\n",
       "      <td>1.000000</td>\n",
       "    </tr>\n",
       "    <tr>\n",
       "      <th>3</th>\n",
       "      <td>56.0</td>\n",
       "      <td>USS Coral Sea (CVB/CVA/CV 43) commemorative ch...</td>\n",
       "      <td>20.0</td>\n",
       "      <td>{\"urls\":{\"web\":{\"discover\":\"http://www.kicksta...</td>\n",
       "      <td>art</td>\n",
       "      <td>USD</td>\n",
       "      <td>15 days</td>\n",
       "      <td>2100.0</td>\n",
       "      <td>2100.00000</td>\n",
       "      <td>2015-07-24</td>\n",
       "      <td>USS Coral Sea (CVB/CVA/CV-43) Commemorative Ch...</td>\n",
       "      <td>successful</td>\n",
       "      <td>2015-08-08</td>\n",
       "      <td>1.000000</td>\n",
       "    </tr>\n",
       "    <tr>\n",
       "      <th>4</th>\n",
       "      <td>31.0</td>\n",
       "      <td>Amrita is Sanskrit for divine nectar. This bot...</td>\n",
       "      <td>24.0</td>\n",
       "      <td>{\"urls\":{\"web\":{\"discover\":\"http://www.kicksta...</td>\n",
       "      <td>art</td>\n",
       "      <td>USD</td>\n",
       "      <td>21 days</td>\n",
       "      <td>1950.0</td>\n",
       "      <td>1950.00000</td>\n",
       "      <td>2015-12-10</td>\n",
       "      <td>Amrita Bottles Inc.</td>\n",
       "      <td>successful</td>\n",
       "      <td>2015-12-31</td>\n",
       "      <td>1.000000</td>\n",
       "    </tr>\n",
       "  </tbody>\n",
       "</table>\n",
       "</div>"
      ],
      "text/plain": [
       "   backers_count                                              blurb  \\\n",
       "0           18.0  I’m painting phallic and yonic themed waist ap...   \n",
       "1           79.0  Visa ditt stöd för Mjölby Porslinsrävsmusem me...   \n",
       "2          148.0  cool dog is a good dog. he is best conveyed in...   \n",
       "3           56.0  USS Coral Sea (CVB/CVA/CV 43) commemorative ch...   \n",
       "4           31.0  Amrita is Sanskrit for divine nectar. This bot...   \n",
       "\n",
       "   blurb_count                                           category  \\\n",
       "0         12.0  {\"urls\":{\"web\":{\"discover\":\"http://www.kicksta...   \n",
       "1         18.0  {\"urls\":{\"web\":{\"discover\":\"http://www.kicksta...   \n",
       "2         28.0  {\"urls\":{\"web\":{\"discover\":\"http://www.kicksta...   \n",
       "3         20.0  {\"urls\":{\"web\":{\"discover\":\"http://www.kicksta...   \n",
       "4         24.0  {\"urls\":{\"web\":{\"discover\":\"http://www.kicksta...   \n",
       "\n",
       "  category_name currency  days_to_change    goal    goal_USD launched_at  \\\n",
       "0           art      USD         30 days   300.0   300.00000  2012-10-24   \n",
       "1           art      SEK         17 days  3000.0   363.67812  2016-05-16   \n",
       "2           art      USD         30 days  3200.0  3200.00000  2016-05-06   \n",
       "3           art      USD         15 days  2100.0  2100.00000  2015-07-24   \n",
       "4           art      USD         21 days  1950.0  1950.00000  2015-12-10   \n",
       "\n",
       "                                                name       state  \\\n",
       "0                            Conceptual Waist Aprons  successful   \n",
       "1                      Mjölby Porslinsrävsmuseum pin  successful   \n",
       "2                  COOL DOG ANNUAL STICKER FUND 2016  successful   \n",
       "3  USS Coral Sea (CVB/CVA/CV-43) Commemorative Ch...  successful   \n",
       "4                                Amrita Bottles Inc.  successful   \n",
       "\n",
       "  state_changed_at  static_usd_rate  \n",
       "0       2012-11-23         1.000000  \n",
       "1       2016-06-02         0.121226  \n",
       "2       2016-06-05         1.000000  \n",
       "3       2015-08-08         1.000000  \n",
       "4       2015-12-31         1.000000  "
      ]
     },
     "execution_count": 315,
     "metadata": {},
     "output_type": "execute_result"
    }
   ],
   "source": [
    "k_var_concat.head()"
   ]
  },
  {
   "cell_type": "code",
   "execution_count": 44,
   "metadata": {
    "collapsed": false,
    "scrolled": true
   },
   "outputs": [
    {
     "data": {
      "text/html": [
       "<div>\n",
       "<table border=\"1\" class=\"dataframe\">\n",
       "  <thead>\n",
       "    <tr style=\"text-align: right;\">\n",
       "      <th></th>\n",
       "      <th>blurb</th>\n",
       "      <th>launched_at</th>\n",
       "      <th>state_changed_at</th>\n",
       "      <th>days_to_change</th>\n",
       "      <th>state</th>\n",
       "    </tr>\n",
       "  </thead>\n",
       "  <tbody>\n",
       "    <tr>\n",
       "      <th>1060</th>\n",
       "      <td>\"3 Days In Savannah\" explores the issues of lo...</td>\n",
       "      <td>2014-07-02</td>\n",
       "      <td>2014-07-04</td>\n",
       "      <td>2 days</td>\n",
       "      <td>successful</td>\n",
       "    </tr>\n",
       "    <tr>\n",
       "      <th>801</th>\n",
       "      <td>\"3 Days In Savannah\" explores the issues of lo...</td>\n",
       "      <td>2014-06-14</td>\n",
       "      <td>2014-07-01</td>\n",
       "      <td>17 days</td>\n",
       "      <td>failed</td>\n",
       "    </tr>\n",
       "    <tr>\n",
       "      <th>811</th>\n",
       "      <td>\"MAMA'Z BA-B\" is the story of Marcus Williams ...</td>\n",
       "      <td>2015-01-16</td>\n",
       "      <td>2015-02-15</td>\n",
       "      <td>30 days</td>\n",
       "      <td>failed</td>\n",
       "    </tr>\n",
       "    <tr>\n",
       "      <th>857</th>\n",
       "      <td>\"MAMA'Z BA-B\" is the story of Marcus Williams ...</td>\n",
       "      <td>2015-02-18</td>\n",
       "      <td>2015-04-19</td>\n",
       "      <td>60 days</td>\n",
       "      <td>failed</td>\n",
       "    </tr>\n",
       "    <tr>\n",
       "      <th>858</th>\n",
       "      <td>Andrew Heller producing a production of an ori...</td>\n",
       "      <td>2016-02-13</td>\n",
       "      <td>2016-04-13</td>\n",
       "      <td>60 days</td>\n",
       "      <td>failed</td>\n",
       "    </tr>\n",
       "    <tr>\n",
       "      <th>489</th>\n",
       "      <td>Andrew Heller producing a production of an ori...</td>\n",
       "      <td>2016-02-13</td>\n",
       "      <td>2016-02-13</td>\n",
       "      <td>0 days</td>\n",
       "      <td>canceled</td>\n",
       "    </tr>\n",
       "    <tr>\n",
       "      <th>3649</th>\n",
       "      <td>As part of the 450th anniversary of St. August...</td>\n",
       "      <td>2012-10-10</td>\n",
       "      <td>2012-12-09</td>\n",
       "      <td>60 days</td>\n",
       "      <td>failed</td>\n",
       "    </tr>\n",
       "    <tr>\n",
       "      <th>1686</th>\n",
       "      <td>As part of the 450th anniversary of St. August...</td>\n",
       "      <td>2012-10-04</td>\n",
       "      <td>2012-10-05</td>\n",
       "      <td>1 days</td>\n",
       "      <td>canceled</td>\n",
       "    </tr>\n",
       "    <tr>\n",
       "      <th>1076</th>\n",
       "      <td>Buy prints, playmats and limited edition canva...</td>\n",
       "      <td>2014-06-25</td>\n",
       "      <td>2014-07-25</td>\n",
       "      <td>30 days</td>\n",
       "      <td>successful</td>\n",
       "    </tr>\n",
       "    <tr>\n",
       "      <th>1097</th>\n",
       "      <td>Buy prints, playmats and limited edition canva...</td>\n",
       "      <td>2013-11-13</td>\n",
       "      <td>2013-12-13</td>\n",
       "      <td>30 days</td>\n",
       "      <td>successful</td>\n",
       "    </tr>\n",
       "    <tr>\n",
       "      <th>2189</th>\n",
       "      <td>Creation of large scale honorary oil paintings...</td>\n",
       "      <td>2015-09-09</td>\n",
       "      <td>2015-10-10</td>\n",
       "      <td>31 days</td>\n",
       "      <td>failed</td>\n",
       "    </tr>\n",
       "    <tr>\n",
       "      <th>1732</th>\n",
       "      <td>Creation of large scale honorary oil paintings...</td>\n",
       "      <td>2015-09-01</td>\n",
       "      <td>2015-09-04</td>\n",
       "      <td>3 days</td>\n",
       "      <td>canceled</td>\n",
       "    </tr>\n",
       "    <tr>\n",
       "      <th>2534</th>\n",
       "      <td>Crystals with multiple 2D images embedded into...</td>\n",
       "      <td>2014-02-13</td>\n",
       "      <td>2014-02-24</td>\n",
       "      <td>11 days</td>\n",
       "      <td>canceled</td>\n",
       "    </tr>\n",
       "    <tr>\n",
       "      <th>2792</th>\n",
       "      <td>Crystals with multiple 2D images embedded into...</td>\n",
       "      <td>2013-07-23</td>\n",
       "      <td>2013-08-30</td>\n",
       "      <td>38 days</td>\n",
       "      <td>failed</td>\n",
       "    </tr>\n",
       "    <tr>\n",
       "      <th>1556</th>\n",
       "      <td>Digital Zombie Artwork &amp; Posters - Let The Apo...</td>\n",
       "      <td>2014-10-14</td>\n",
       "      <td>2014-10-31</td>\n",
       "      <td>17 days</td>\n",
       "      <td>failed</td>\n",
       "    </tr>\n",
       "    <tr>\n",
       "      <th>1435</th>\n",
       "      <td>Digital Zombie Artwork &amp; Posters - Let The Apo...</td>\n",
       "      <td>2014-07-25</td>\n",
       "      <td>2014-08-30</td>\n",
       "      <td>36 days</td>\n",
       "      <td>failed</td>\n",
       "    </tr>\n",
       "    <tr>\n",
       "      <th>3078</th>\n",
       "      <td>Double Down wants to make the most extravagant...</td>\n",
       "      <td>2015-09-05</td>\n",
       "      <td>2015-09-20</td>\n",
       "      <td>15 days</td>\n",
       "      <td>successful</td>\n",
       "    </tr>\n",
       "    <tr>\n",
       "      <th>3129</th>\n",
       "      <td>Double Down wants to make the most extravagant...</td>\n",
       "      <td>2014-12-14</td>\n",
       "      <td>2015-01-11</td>\n",
       "      <td>28 days</td>\n",
       "      <td>successful</td>\n",
       "    </tr>\n",
       "    <tr>\n",
       "      <th>2931</th>\n",
       "      <td>GlobeStar applies the excitement of social net...</td>\n",
       "      <td>2014-07-09</td>\n",
       "      <td>2014-08-08</td>\n",
       "      <td>30 days</td>\n",
       "      <td>failed</td>\n",
       "    </tr>\n",
       "    <tr>\n",
       "      <th>2224</th>\n",
       "      <td>GlobeStar applies the excitement of social net...</td>\n",
       "      <td>2014-08-12</td>\n",
       "      <td>2014-09-11</td>\n",
       "      <td>30 days</td>\n",
       "      <td>failed</td>\n",
       "    </tr>\n",
       "    <tr>\n",
       "      <th>2787</th>\n",
       "      <td>Hardwood Culinary Cutting and Serving Boards b...</td>\n",
       "      <td>2013-07-09</td>\n",
       "      <td>2013-07-23</td>\n",
       "      <td>14 days</td>\n",
       "      <td>failed</td>\n",
       "    </tr>\n",
       "    <tr>\n",
       "      <th>2537</th>\n",
       "      <td>Hardwood Culinary Cutting and Serving Boards b...</td>\n",
       "      <td>2013-06-19</td>\n",
       "      <td>2013-06-24</td>\n",
       "      <td>5 days</td>\n",
       "      <td>canceled</td>\n",
       "    </tr>\n",
       "    <tr>\n",
       "      <th>875</th>\n",
       "      <td>Hercules must complete four challenges in orde...</td>\n",
       "      <td>2015-01-13</td>\n",
       "      <td>2015-03-14</td>\n",
       "      <td>60 days</td>\n",
       "      <td>failed</td>\n",
       "    </tr>\n",
       "    <tr>\n",
       "      <th>537</th>\n",
       "      <td>Hercules must complete four challenges in orde...</td>\n",
       "      <td>2014-11-16</td>\n",
       "      <td>2015-01-08</td>\n",
       "      <td>53 days</td>\n",
       "      <td>canceled</td>\n",
       "    </tr>\n",
       "    <tr>\n",
       "      <th>1584</th>\n",
       "      <td>Hi.  My name is William Stewart and I am a loc...</td>\n",
       "      <td>2015-12-24</td>\n",
       "      <td>2016-01-08</td>\n",
       "      <td>15 days</td>\n",
       "      <td>failed</td>\n",
       "    </tr>\n",
       "    <tr>\n",
       "      <th>1339</th>\n",
       "      <td>Hi.  My name is William Stewart and I am a loc...</td>\n",
       "      <td>2015-10-13</td>\n",
       "      <td>2015-10-31</td>\n",
       "      <td>18 days</td>\n",
       "      <td>failed</td>\n",
       "    </tr>\n",
       "    <tr>\n",
       "      <th>102</th>\n",
       "      <td>Hi.  My name is William Stewart and I am a loc...</td>\n",
       "      <td>2015-09-21</td>\n",
       "      <td>2015-10-09</td>\n",
       "      <td>18 days</td>\n",
       "      <td>canceled</td>\n",
       "    </tr>\n",
       "    <tr>\n",
       "      <th>3801</th>\n",
       "      <td>I had a dream of a white wall for my paintings...</td>\n",
       "      <td>2014-11-05</td>\n",
       "      <td>2014-12-01</td>\n",
       "      <td>26 days</td>\n",
       "      <td>failed</td>\n",
       "    </tr>\n",
       "    <tr>\n",
       "      <th>4130</th>\n",
       "      <td>I had a dream of a white wall for my paintings...</td>\n",
       "      <td>2014-09-10</td>\n",
       "      <td>2014-09-29</td>\n",
       "      <td>19 days</td>\n",
       "      <td>failed</td>\n",
       "    </tr>\n",
       "    <tr>\n",
       "      <th>3387</th>\n",
       "      <td>I would like to create paintings that are repr...</td>\n",
       "      <td>2015-10-06</td>\n",
       "      <td>2015-12-04</td>\n",
       "      <td>59 days</td>\n",
       "      <td>failed</td>\n",
       "    </tr>\n",
       "    <tr>\n",
       "      <th>...</th>\n",
       "      <td>...</td>\n",
       "      <td>...</td>\n",
       "      <td>...</td>\n",
       "      <td>...</td>\n",
       "      <td>...</td>\n",
       "    </tr>\n",
       "    <tr>\n",
       "      <th>2296</th>\n",
       "      <td>Project</td>\n",
       "      <td>2016-04-15</td>\n",
       "      <td>2016-05-14</td>\n",
       "      <td>29 days</td>\n",
       "      <td>canceled</td>\n",
       "    </tr>\n",
       "    <tr>\n",
       "      <th>650</th>\n",
       "      <td>Set in Southern America “The Divide” is a stag...</td>\n",
       "      <td>2016-01-20</td>\n",
       "      <td>2016-01-29</td>\n",
       "      <td>9 days</td>\n",
       "      <td>failed</td>\n",
       "    </tr>\n",
       "    <tr>\n",
       "      <th>741</th>\n",
       "      <td>Set in Southern America “The Divide” is a stag...</td>\n",
       "      <td>2016-01-31</td>\n",
       "      <td>2016-02-27</td>\n",
       "      <td>27 days</td>\n",
       "      <td>failed</td>\n",
       "    </tr>\n",
       "    <tr>\n",
       "      <th>845</th>\n",
       "      <td>Set in Southern America “The Divide” is a stag...</td>\n",
       "      <td>2016-03-04</td>\n",
       "      <td>2016-05-03</td>\n",
       "      <td>60 days</td>\n",
       "      <td>failed</td>\n",
       "    </tr>\n",
       "    <tr>\n",
       "      <th>524</th>\n",
       "      <td>Set in the height of sex, drugs and rock 'n' r...</td>\n",
       "      <td>2016-05-21</td>\n",
       "      <td>2016-05-22</td>\n",
       "      <td>1 days</td>\n",
       "      <td>canceled</td>\n",
       "    </tr>\n",
       "    <tr>\n",
       "      <th>3845</th>\n",
       "      <td>Set in the height of sex, drugs and rock 'n' r...</td>\n",
       "      <td>2016-05-22</td>\n",
       "      <td>2016-05-22</td>\n",
       "      <td>0 days</td>\n",
       "      <td>live</td>\n",
       "    </tr>\n",
       "    <tr>\n",
       "      <th>1077</th>\n",
       "      <td>Support this collection of new plays by Kansas...</td>\n",
       "      <td>2015-06-28</td>\n",
       "      <td>2015-07-17</td>\n",
       "      <td>19 days</td>\n",
       "      <td>successful</td>\n",
       "    </tr>\n",
       "    <tr>\n",
       "      <th>3843</th>\n",
       "      <td>Support this collection of new plays by Kansas...</td>\n",
       "      <td>2016-06-30</td>\n",
       "      <td>2016-06-30</td>\n",
       "      <td>0 days</td>\n",
       "      <td>live</td>\n",
       "    </tr>\n",
       "    <tr>\n",
       "      <th>3528</th>\n",
       "      <td>The Bre Project - paintings that capture the i...</td>\n",
       "      <td>2014-04-21</td>\n",
       "      <td>2014-05-21</td>\n",
       "      <td>30 days</td>\n",
       "      <td>failed</td>\n",
       "    </tr>\n",
       "    <tr>\n",
       "      <th>4115</th>\n",
       "      <td>The Bre Project - paintings that capture the i...</td>\n",
       "      <td>2013-11-18</td>\n",
       "      <td>2013-12-28</td>\n",
       "      <td>40 days</td>\n",
       "      <td>failed</td>\n",
       "    </tr>\n",
       "    <tr>\n",
       "      <th>3142</th>\n",
       "      <td>The Decentralized Dance Party was founded on t...</td>\n",
       "      <td>2012-01-02</td>\n",
       "      <td>2012-01-18</td>\n",
       "      <td>16 days</td>\n",
       "      <td>successful</td>\n",
       "    </tr>\n",
       "    <tr>\n",
       "      <th>2983</th>\n",
       "      <td>The Decentralized Dance Party was founded on t...</td>\n",
       "      <td>2011-12-12</td>\n",
       "      <td>2012-02-10</td>\n",
       "      <td>60 days</td>\n",
       "      <td>failed</td>\n",
       "    </tr>\n",
       "    <tr>\n",
       "      <th>3559</th>\n",
       "      <td>The Secret is a historical drama about a lawye...</td>\n",
       "      <td>2014-07-09</td>\n",
       "      <td>2014-08-23</td>\n",
       "      <td>45 days</td>\n",
       "      <td>successful</td>\n",
       "    </tr>\n",
       "    <tr>\n",
       "      <th>562</th>\n",
       "      <td>The Secret is a historical drama about a lawye...</td>\n",
       "      <td>2014-07-07</td>\n",
       "      <td>2014-07-09</td>\n",
       "      <td>2 days</td>\n",
       "      <td>canceled</td>\n",
       "    </tr>\n",
       "    <tr>\n",
       "      <th>1355</th>\n",
       "      <td>This is for all the Zombie lovers out there. F...</td>\n",
       "      <td>2015-03-24</td>\n",
       "      <td>2015-04-23</td>\n",
       "      <td>30 days</td>\n",
       "      <td>failed</td>\n",
       "    </tr>\n",
       "    <tr>\n",
       "      <th>1385</th>\n",
       "      <td>This is for all the Zombie lovers out there. F...</td>\n",
       "      <td>2015-03-05</td>\n",
       "      <td>2015-03-20</td>\n",
       "      <td>15 days</td>\n",
       "      <td>failed</td>\n",
       "    </tr>\n",
       "    <tr>\n",
       "      <th>2503</th>\n",
       "      <td>We are building a ceremonial floatilla to inau...</td>\n",
       "      <td>2012-10-13</td>\n",
       "      <td>2012-11-04</td>\n",
       "      <td>22 days</td>\n",
       "      <td>canceled</td>\n",
       "    </tr>\n",
       "    <tr>\n",
       "      <th>3196</th>\n",
       "      <td>We are building a ceremonial floatilla to inau...</td>\n",
       "      <td>2012-11-05</td>\n",
       "      <td>2012-12-05</td>\n",
       "      <td>30 days</td>\n",
       "      <td>successful</td>\n",
       "    </tr>\n",
       "    <tr>\n",
       "      <th>2892</th>\n",
       "      <td>We want to bring volunteering to those who wan...</td>\n",
       "      <td>2015-05-06</td>\n",
       "      <td>2015-06-05</td>\n",
       "      <td>30 days</td>\n",
       "      <td>failed</td>\n",
       "    </tr>\n",
       "    <tr>\n",
       "      <th>2303</th>\n",
       "      <td>We want to bring volunteering to those who wan...</td>\n",
       "      <td>2015-03-20</td>\n",
       "      <td>2015-05-01</td>\n",
       "      <td>42 days</td>\n",
       "      <td>failed</td>\n",
       "    </tr>\n",
       "    <tr>\n",
       "      <th>44</th>\n",
       "      <td>Weaving the woolen muffler for the alpaca I sh...</td>\n",
       "      <td>2013-11-25</td>\n",
       "      <td>2014-01-09</td>\n",
       "      <td>45 days</td>\n",
       "      <td>successful</td>\n",
       "    </tr>\n",
       "    <tr>\n",
       "      <th>2543</th>\n",
       "      <td>Weaving the woolen muffler for the alpaca I sh...</td>\n",
       "      <td>2013-11-22</td>\n",
       "      <td>2013-11-22</td>\n",
       "      <td>0 days</td>\n",
       "      <td>canceled</td>\n",
       "    </tr>\n",
       "    <tr>\n",
       "      <th>750</th>\n",
       "      <td>Will Power Troupe is the only US group invited...</td>\n",
       "      <td>2015-08-18</td>\n",
       "      <td>2015-09-27</td>\n",
       "      <td>40 days</td>\n",
       "      <td>failed</td>\n",
       "    </tr>\n",
       "    <tr>\n",
       "      <th>686</th>\n",
       "      <td>Will Power Troupe is the only US group invited...</td>\n",
       "      <td>2015-06-16</td>\n",
       "      <td>2015-08-15</td>\n",
       "      <td>60 days</td>\n",
       "      <td>failed</td>\n",
       "    </tr>\n",
       "    <tr>\n",
       "      <th>3859</th>\n",
       "      <td>You suggest an artist, they create a painting,...</td>\n",
       "      <td>2014-05-08</td>\n",
       "      <td>2014-06-07</td>\n",
       "      <td>30 days</td>\n",
       "      <td>failed</td>\n",
       "    </tr>\n",
       "    <tr>\n",
       "      <th>2057</th>\n",
       "      <td>You suggest an artist, they create a painting,...</td>\n",
       "      <td>2014-07-08</td>\n",
       "      <td>2014-08-07</td>\n",
       "      <td>30 days</td>\n",
       "      <td>failed</td>\n",
       "    </tr>\n",
       "    <tr>\n",
       "      <th>38</th>\n",
       "      <td>cool dog is a good dog. he is best conveyed in...</td>\n",
       "      <td>2015-04-06</td>\n",
       "      <td>2015-05-06</td>\n",
       "      <td>30 days</td>\n",
       "      <td>successful</td>\n",
       "    </tr>\n",
       "    <tr>\n",
       "      <th>3109</th>\n",
       "      <td>cool dog is a good dog. he is best conveyed in...</td>\n",
       "      <td>2013-04-16</td>\n",
       "      <td>2013-05-06</td>\n",
       "      <td>20 days</td>\n",
       "      <td>successful</td>\n",
       "    </tr>\n",
       "    <tr>\n",
       "      <th>57</th>\n",
       "      <td>cool dog is a good dog. he is best conveyed in...</td>\n",
       "      <td>2014-04-25</td>\n",
       "      <td>2014-05-25</td>\n",
       "      <td>30 days</td>\n",
       "      <td>successful</td>\n",
       "    </tr>\n",
       "    <tr>\n",
       "      <th>2</th>\n",
       "      <td>cool dog is a good dog. he is best conveyed in...</td>\n",
       "      <td>2016-05-06</td>\n",
       "      <td>2016-06-05</td>\n",
       "      <td>30 days</td>\n",
       "      <td>successful</td>\n",
       "    </tr>\n",
       "  </tbody>\n",
       "</table>\n",
       "<p>72 rows × 5 columns</p>\n",
       "</div>"
      ],
      "text/plain": [
       "                                                  blurb launched_at  \\\n",
       "1060  \"3 Days In Savannah\" explores the issues of lo...  2014-07-02   \n",
       "801   \"3 Days In Savannah\" explores the issues of lo...  2014-06-14   \n",
       "811   \"MAMA'Z BA-B\" is the story of Marcus Williams ...  2015-01-16   \n",
       "857   \"MAMA'Z BA-B\" is the story of Marcus Williams ...  2015-02-18   \n",
       "858   Andrew Heller producing a production of an ori...  2016-02-13   \n",
       "489   Andrew Heller producing a production of an ori...  2016-02-13   \n",
       "3649  As part of the 450th anniversary of St. August...  2012-10-10   \n",
       "1686  As part of the 450th anniversary of St. August...  2012-10-04   \n",
       "1076  Buy prints, playmats and limited edition canva...  2014-06-25   \n",
       "1097  Buy prints, playmats and limited edition canva...  2013-11-13   \n",
       "2189  Creation of large scale honorary oil paintings...  2015-09-09   \n",
       "1732  Creation of large scale honorary oil paintings...  2015-09-01   \n",
       "2534  Crystals with multiple 2D images embedded into...  2014-02-13   \n",
       "2792  Crystals with multiple 2D images embedded into...  2013-07-23   \n",
       "1556  Digital Zombie Artwork & Posters - Let The Apo...  2014-10-14   \n",
       "1435  Digital Zombie Artwork & Posters - Let The Apo...  2014-07-25   \n",
       "3078  Double Down wants to make the most extravagant...  2015-09-05   \n",
       "3129  Double Down wants to make the most extravagant...  2014-12-14   \n",
       "2931  GlobeStar applies the excitement of social net...  2014-07-09   \n",
       "2224  GlobeStar applies the excitement of social net...  2014-08-12   \n",
       "2787  Hardwood Culinary Cutting and Serving Boards b...  2013-07-09   \n",
       "2537  Hardwood Culinary Cutting and Serving Boards b...  2013-06-19   \n",
       "875   Hercules must complete four challenges in orde...  2015-01-13   \n",
       "537   Hercules must complete four challenges in orde...  2014-11-16   \n",
       "1584  Hi.  My name is William Stewart and I am a loc...  2015-12-24   \n",
       "1339  Hi.  My name is William Stewart and I am a loc...  2015-10-13   \n",
       "102   Hi.  My name is William Stewart and I am a loc...  2015-09-21   \n",
       "3801  I had a dream of a white wall for my paintings...  2014-11-05   \n",
       "4130  I had a dream of a white wall for my paintings...  2014-09-10   \n",
       "3387  I would like to create paintings that are repr...  2015-10-06   \n",
       "...                                                 ...         ...   \n",
       "2296                                            Project  2016-04-15   \n",
       "650   Set in Southern America “The Divide” is a stag...  2016-01-20   \n",
       "741   Set in Southern America “The Divide” is a stag...  2016-01-31   \n",
       "845   Set in Southern America “The Divide” is a stag...  2016-03-04   \n",
       "524   Set in the height of sex, drugs and rock 'n' r...  2016-05-21   \n",
       "3845  Set in the height of sex, drugs and rock 'n' r...  2016-05-22   \n",
       "1077  Support this collection of new plays by Kansas...  2015-06-28   \n",
       "3843  Support this collection of new plays by Kansas...  2016-06-30   \n",
       "3528  The Bre Project - paintings that capture the i...  2014-04-21   \n",
       "4115  The Bre Project - paintings that capture the i...  2013-11-18   \n",
       "3142  The Decentralized Dance Party was founded on t...  2012-01-02   \n",
       "2983  The Decentralized Dance Party was founded on t...  2011-12-12   \n",
       "3559  The Secret is a historical drama about a lawye...  2014-07-09   \n",
       "562   The Secret is a historical drama about a lawye...  2014-07-07   \n",
       "1355  This is for all the Zombie lovers out there. F...  2015-03-24   \n",
       "1385  This is for all the Zombie lovers out there. F...  2015-03-05   \n",
       "2503  We are building a ceremonial floatilla to inau...  2012-10-13   \n",
       "3196  We are building a ceremonial floatilla to inau...  2012-11-05   \n",
       "2892  We want to bring volunteering to those who wan...  2015-05-06   \n",
       "2303  We want to bring volunteering to those who wan...  2015-03-20   \n",
       "44    Weaving the woolen muffler for the alpaca I sh...  2013-11-25   \n",
       "2543  Weaving the woolen muffler for the alpaca I sh...  2013-11-22   \n",
       "750   Will Power Troupe is the only US group invited...  2015-08-18   \n",
       "686   Will Power Troupe is the only US group invited...  2015-06-16   \n",
       "3859  You suggest an artist, they create a painting,...  2014-05-08   \n",
       "2057  You suggest an artist, they create a painting,...  2014-07-08   \n",
       "38    cool dog is a good dog. he is best conveyed in...  2015-04-06   \n",
       "3109  cool dog is a good dog. he is best conveyed in...  2013-04-16   \n",
       "57    cool dog is a good dog. he is best conveyed in...  2014-04-25   \n",
       "2     cool dog is a good dog. he is best conveyed in...  2016-05-06   \n",
       "\n",
       "     state_changed_at  days_to_change       state  \n",
       "1060       2014-07-04          2 days  successful  \n",
       "801        2014-07-01         17 days      failed  \n",
       "811        2015-02-15         30 days      failed  \n",
       "857        2015-04-19         60 days      failed  \n",
       "858        2016-04-13         60 days      failed  \n",
       "489        2016-02-13          0 days    canceled  \n",
       "3649       2012-12-09         60 days      failed  \n",
       "1686       2012-10-05          1 days    canceled  \n",
       "1076       2014-07-25         30 days  successful  \n",
       "1097       2013-12-13         30 days  successful  \n",
       "2189       2015-10-10         31 days      failed  \n",
       "1732       2015-09-04          3 days    canceled  \n",
       "2534       2014-02-24         11 days    canceled  \n",
       "2792       2013-08-30         38 days      failed  \n",
       "1556       2014-10-31         17 days      failed  \n",
       "1435       2014-08-30         36 days      failed  \n",
       "3078       2015-09-20         15 days  successful  \n",
       "3129       2015-01-11         28 days  successful  \n",
       "2931       2014-08-08         30 days      failed  \n",
       "2224       2014-09-11         30 days      failed  \n",
       "2787       2013-07-23         14 days      failed  \n",
       "2537       2013-06-24          5 days    canceled  \n",
       "875        2015-03-14         60 days      failed  \n",
       "537        2015-01-08         53 days    canceled  \n",
       "1584       2016-01-08         15 days      failed  \n",
       "1339       2015-10-31         18 days      failed  \n",
       "102        2015-10-09         18 days    canceled  \n",
       "3801       2014-12-01         26 days      failed  \n",
       "4130       2014-09-29         19 days      failed  \n",
       "3387       2015-12-04         59 days      failed  \n",
       "...               ...             ...         ...  \n",
       "2296       2016-05-14         29 days    canceled  \n",
       "650        2016-01-29          9 days      failed  \n",
       "741        2016-02-27         27 days      failed  \n",
       "845        2016-05-03         60 days      failed  \n",
       "524        2016-05-22          1 days    canceled  \n",
       "3845       2016-05-22          0 days        live  \n",
       "1077       2015-07-17         19 days  successful  \n",
       "3843       2016-06-30          0 days        live  \n",
       "3528       2014-05-21         30 days      failed  \n",
       "4115       2013-12-28         40 days      failed  \n",
       "3142       2012-01-18         16 days  successful  \n",
       "2983       2012-02-10         60 days      failed  \n",
       "3559       2014-08-23         45 days  successful  \n",
       "562        2014-07-09          2 days    canceled  \n",
       "1355       2015-04-23         30 days      failed  \n",
       "1385       2015-03-20         15 days      failed  \n",
       "2503       2012-11-04         22 days    canceled  \n",
       "3196       2012-12-05         30 days  successful  \n",
       "2892       2015-06-05         30 days      failed  \n",
       "2303       2015-05-01         42 days      failed  \n",
       "44         2014-01-09         45 days  successful  \n",
       "2543       2013-11-22          0 days    canceled  \n",
       "750        2015-09-27         40 days      failed  \n",
       "686        2015-08-15         60 days      failed  \n",
       "3859       2014-06-07         30 days      failed  \n",
       "2057       2014-08-07         30 days      failed  \n",
       "38         2015-05-06         30 days  successful  \n",
       "3109       2013-05-06         20 days  successful  \n",
       "57         2014-05-25         30 days  successful  \n",
       "2          2016-06-05         30 days  successful  \n",
       "\n",
       "[72 rows x 5 columns]"
      ]
     },
     "execution_count": 44,
     "metadata": {},
     "output_type": "execute_result"
    }
   ],
   "source": [
    "# people can resubmit their projects a 2nd, 3rd etc. time...So there are repeates.\n",
    "# Therefore, for this dataset maybe we should only analyze the 1st submissions.\n",
    "\n",
    "g[['blurb','launched_at','state_changed_at','days_to_change','state']].filter(lambda x: len(x) > 1).sort_values('blurb')"
   ]
  },
  {
   "cell_type": "code",
   "execution_count": null,
   "metadata": {
    "collapsed": true
   },
   "outputs": [],
   "source": []
  }
 ],
 "metadata": {
  "kernelspec": {
   "display_name": "Python 2",
   "language": "python",
   "name": "python2"
  },
  "language_info": {
   "codemirror_mode": {
    "name": "ipython",
    "version": 2
   },
   "file_extension": ".py",
   "mimetype": "text/x-python",
   "name": "python",
   "nbconvert_exporter": "python",
   "pygments_lexer": "ipython2",
   "version": "2.7.11"
  }
 },
 "nbformat": 4,
 "nbformat_minor": 0
}
